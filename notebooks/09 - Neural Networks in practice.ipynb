{
 "cells": [
  {
   "cell_type": "markdown",
   "metadata": {
    "slideshow": {
     "slide_type": "slide"
    }
   },
   "source": [
    "# Neural Networks\n",
    "In practice"
   ]
  },
  {
   "cell_type": "code",
   "execution_count": 1,
   "metadata": {
    "hide_input": false,
    "slideshow": {
     "slide_type": "skip"
    }
   },
   "outputs": [
    {
     "name": "stderr",
     "output_type": "stream",
     "text": [
      "Using TensorFlow backend.\n"
     ]
    },
    {
     "name": "stdout",
     "output_type": "stream",
     "text": [
      "Using Keras 2.1.5\n"
     ]
    },
    {
     "data": {
      "text/html": [
       "<style>html, body{overflow-y: visible !important} .CodeMirror{min-width:105% !important;} .rise-enabled .CodeMirror, .rise-enabled .output_subarea{font-size:140%; line-height:1.2; overflow: visible;} .output_subarea pre{width:110%}</style>"
      ],
      "text/plain": [
       "<IPython.core.display.HTML object>"
      ]
     },
     "execution_count": 1,
     "metadata": {},
     "output_type": "execute_result"
    }
   ],
   "source": [
    "# Global imports and settings\n",
    "from preamble import *\n",
    "import keras\n",
    "print(\"Using Keras\",keras.__version__)\n",
    "%matplotlib inline\n",
    "plt.rcParams['figure.dpi'] = 125 # Use 300 for PDF, 100 for slides\n",
    "# InteractiveShell.ast_node_interactivity = \"all\"\n",
    "HTML('''<style>html, body{overflow-y: visible !important} .CodeMirror{min-width:105% !important;} .rise-enabled .CodeMirror, .rise-enabled .output_subarea{font-size:140%; line-height:1.2; overflow: visible;} .output_subarea pre{width:110%}</style>''') # For slides"
   ]
  },
  {
   "cell_type": "markdown",
   "metadata": {
    "cell_style": "center",
    "slideshow": {
     "slide_type": "subslide"
    }
   },
   "source": [
    "### Overview\n",
    "* Solving basic classification and regression problems\n",
    "* Model selection (and overfitting)"
   ]
  },
  {
   "cell_type": "markdown",
   "metadata": {
    "slideshow": {
     "slide_type": "slide"
    }
   },
   "source": [
    "## Solving basic problems\n",
    "* Binary classification (of movie reviews)\n",
    "* Multiclass classification (of news topics)\n",
    "* Regression (of house prices)\n",
    "\n",
    "Examples from _Deep Leaerning with Python_"
   ]
  },
  {
   "cell_type": "markdown",
   "metadata": {
    "slideshow": {
     "slide_type": "subslide"
    }
   },
   "source": [
    "### Components of Neural Nets (recap)\n",
    "* _Layers_ of nodes: transform an input tensor to an output tensor\n",
    "    - Each with (a tensor of) weights to be optimized to fit the training data\n",
    "    - Many types: dense, convolutional, recurrent,...\n",
    "* _Loss function_: Measures whether the model fits the training data\n",
    "* _Optimizer_: How to update the network, e.g. SGD\n",
    "\n",
    "<img src=\"../images/09_overview.png\" alt=\"ml\" style=\"width: 600px;\"/>"
   ]
  },
  {
   "cell_type": "markdown",
   "metadata": {
    "slideshow": {
     "slide_type": "subslide"
    }
   },
   "source": [
    "### Binary classification\n",
    "* Dataset: 50,000 IMDB reviews, labeled positive (1) or negative (0)\n",
    "    - Included in Keras, with a 50/50 train-test split\n",
    "* Each row is one review, with only the 10,000 most frequent words retained\n",
    "* Each word is replaced by a _word index_ (word ID)"
   ]
  },
  {
   "cell_type": "code",
   "execution_count": 2,
   "metadata": {
    "hide_input": true
   },
   "outputs": [
    {
     "name": "stdout",
     "output_type": "stream",
     "text": [
      "Encoded review:  [1, 14, 22, 16, 43, 530, 973, 1622, 1385, 65]\n",
      "Original review:  ? this film was just brilliant casting location scenery story\n"
     ]
    }
   ],
   "source": [
    "from keras.datasets import imdb\n",
    "# Download IMDB data with 10000 most frequent words\n",
    "(train_data, train_labels), (test_data, test_labels) = imdb.load_data(num_words=10000)\n",
    "print(\"Encoded review: \", train_data[0][0:10])\n",
    "\n",
    "word_index = imdb.get_word_index()\n",
    "reverse_word_index = dict([(value, key) for (key, value) in word_index.items()])\n",
    "print(\"Original review: \", ' '.join([reverse_word_index.get(i - 3, '?') for i in train_data[0]][0:10]))\n"
   ]
  },
  {
   "cell_type": "markdown",
   "metadata": {
    "slideshow": {
     "slide_type": "subslide"
    }
   },
   "source": [
    "#### Preprocessing\n",
    "* We can't input lists of categorical value to a neural net, we need to create tensors\n",
    "* One-hot-encoding:\n",
    "    -  10000 features, '1.0' if the word occurs\n",
    "* Word embeddings (word2vec):\n",
    "    - Map each word to a dense vector that represents it (it's _embedding_)\n",
    "    - _Embedding_ layer: pre-trained layer that looks up the embedding in a dictionary \n",
    "    - Converts 2D tensor of word indices (zero-padded) to 3D tensor of embeddings\n",
    "* Let's do One-Hot-Encoding for now. We'll come back to _Embedding_ layers.\n",
    "* Also vectorize the labels: from 0/1 to float\n",
    "    - Binary classification works with one output node"
   ]
  },
  {
   "cell_type": "code",
   "execution_count": 3,
   "metadata": {
    "hide_input": false,
    "slideshow": {
     "slide_type": "subslide"
    }
   },
   "outputs": [
    {
     "name": "stdout",
     "output_type": "stream",
     "text": [
      "Encoded review:  [1, 14, 22, 16, 43, 530, 973, 1622, 1385, 65]\n",
      "One-hot-encoded review:  [0. 1. 1. 0. 1. 1. 1. 1. 1. 1.]\n",
      "Label:  1.0\n"
     ]
    }
   ],
   "source": [
    "# Custom implementation of one-hot-encoding\n",
    "def vectorize_sequences(sequences, dimension=10000):\n",
    "    results = np.zeros((len(sequences), dimension))\n",
    "    for i, sequence in enumerate(sequences):\n",
    "        results[i, sequence] = 1.  # set specific indices of results[i] to 1s\n",
    "    return results\n",
    "x_train = vectorize_sequences(train_data)\n",
    "x_test = vectorize_sequences(test_data)\n",
    "print(\"Encoded review: \", train_data[0][0:10])\n",
    "print(\"One-hot-encoded review: \", x_train[0][0:10])\n",
    "\n",
    "# Convert 0/1 labels to float\n",
    "y_train = np.asarray(train_labels).astype('float32')\n",
    "y_test = np.asarray(test_labels).astype('float32')\n",
    "\n",
    "print(\"Label: \", y_train[0])"
   ]
  },
  {
   "cell_type": "markdown",
   "metadata": {
    "slideshow": {
     "slide_type": "subslide"
    }
   },
   "source": [
    "#### Building the network\n",
    "* We can solve this problem using a network of _Dense_ layers and the _ReLU_ activation function.\n",
    "* How many layers? How many hidden units for layer?\n",
    "    - Start with 2 layers of 16 hidden units each\n",
    "    - We'll optimize this soon\n",
    "* Output layer: single unit with _sigmoid_ activation function\n",
    "    - Close to 1: positive review, close to 0: negative review"
   ]
  },
  {
   "cell_type": "markdown",
   "metadata": {
    "slideshow": {
     "slide_type": "subslide"
    }
   },
   "source": [
    "#### Cross-entropy loss\n",
    "* We've seen _cross-entropy loss_ (or _log loss_) over $C$ classes before\n",
    "    - Measures how similar the actual and predicted probability distributions are\n",
    "    - Compute cross-entropy $H(y,\\hat{y})$ between true $y$ and predicted $\\hat{y}$\n",
    "    - Sum up over all training samples\n",
    "$$ H(y,\\hat{y}) = - \\sum_{c=1}^C y_c \\log(\\hat{y}_c)$$\n",
    "\n",
    "* For binary classification, this simplifies to \n",
    "$$ - \\sum_{c=0,1} y_c \\log(\\hat{y}_c) = −(y \\log(\\hat{y})+ (1−y) \\log(1−\\hat{y}))$$\n",
    "\n",
    "<img src=\"../images/09_cross-entropy.png\" alt=\"ml\" style=\"width: 600px;\"/>"
   ]
  },
  {
   "cell_type": "code",
   "execution_count": 4,
   "metadata": {
    "slideshow": {
     "slide_type": "subslide"
    }
   },
   "outputs": [],
   "source": [
    "from keras import models\n",
    "from keras import layers\n",
    "\n",
    "model = models.Sequential()\n",
    "model.add(layers.Dense(16, activation='relu', input_shape=(10000,)))\n",
    "model.add(layers.Dense(16, activation='relu'))\n",
    "model.add(layers.Dense(1, activation='sigmoid'))\n",
    "\n",
    "model.compile(optimizer='rmsprop',\n",
    "              loss='binary_crossentropy',\n",
    "              metrics=['accuracy'])"
   ]
  },
  {
   "cell_type": "markdown",
   "metadata": {
    "slideshow": {
     "slide_type": "subslide"
    }
   },
   "source": [
    "For more control, you can explictly create the optimizer, loss, and metrics:\n",
    "\n",
    "``` python\n",
    "from keras import optimizers\n",
    "from keras import losses\n",
    "from keras import metrics\n",
    "model.compile(optimizer=optimizers.RMSprop(lr=0.001),\n",
    "              loss=losses.binary_crossentropy,\n",
    "              metrics=[metrics.binary_accuracy])\n",
    "```"
   ]
  },
  {
   "cell_type": "markdown",
   "metadata": {
    "slideshow": {
     "slide_type": "subslide"
    }
   },
   "source": [
    "#### Model selection\n",
    "* How many epochs do we need for training?\n",
    "* Take a validation set of 10,000 samples from the training set\n",
    "* Train the neural net and track the loss after every iteration on the validation set\n",
    "    - This is returned as a `History` object by the `fit()` function \n",
    "* We start with 20 epochs in minibatches of 512 samples"
   ]
  },
  {
   "cell_type": "code",
   "execution_count": 5,
   "metadata": {
    "slideshow": {
     "slide_type": "-"
    }
   },
   "outputs": [
    {
     "name": "stdout",
     "output_type": "stream",
     "text": [
      "Train on 15000 samples, validate on 10000 samples\n",
      "Epoch 1/20\n",
      "15000/15000 [==============================] - 4s 243us/step - loss: 0.5085 - acc: 0.7814 - val_loss: 0.3794 - val_acc: 0.8693\n",
      "Epoch 2/20\n",
      "15000/15000 [==============================] - 2s 115us/step - loss: 0.3005 - acc: 0.9046 - val_loss: 0.3002 - val_acc: 0.8899\n",
      "Epoch 3/20\n",
      "15000/15000 [==============================] - 2s 115us/step - loss: 0.2179 - acc: 0.9285 - val_loss: 0.3082 - val_acc: 0.8715\n",
      "Epoch 4/20\n",
      "15000/15000 [==============================] - 2s 142us/step - loss: 0.1751 - acc: 0.9437 - val_loss: 0.2838 - val_acc: 0.8835\n",
      "Epoch 5/20\n",
      "15000/15000 [==============================] - 2s 139us/step - loss: 0.1427 - acc: 0.9543 - val_loss: 0.2848 - val_acc: 0.8865\n",
      "Epoch 6/20\n",
      "15000/15000 [==============================] - 2s 133us/step - loss: 0.1150 - acc: 0.9652 - val_loss: 0.3146 - val_acc: 0.8774\n",
      "Epoch 7/20\n",
      "15000/15000 [==============================] - 2s 144us/step - loss: 0.0980 - acc: 0.9707 - val_loss: 0.3126 - val_acc: 0.8843\n",
      "Epoch 8/20\n",
      "15000/15000 [==============================] - 2s 119us/step - loss: 0.0807 - acc: 0.9763 - val_loss: 0.3855 - val_acc: 0.8651\n",
      "Epoch 9/20\n",
      "15000/15000 [==============================] - 2s 124us/step - loss: 0.0661 - acc: 0.9821 - val_loss: 0.3632 - val_acc: 0.8779\n",
      "Epoch 10/20\n",
      "15000/15000 [==============================] - 2s 118us/step - loss: 0.0557 - acc: 0.9852 - val_loss: 0.3842 - val_acc: 0.8791\n",
      "Epoch 11/20\n",
      "15000/15000 [==============================] - 2s 108us/step - loss: 0.0450 - acc: 0.9889 - val_loss: 0.4160 - val_acc: 0.8772\n",
      "Epoch 12/20\n",
      "15000/15000 [==============================] - 2s 114us/step - loss: 0.0385 - acc: 0.9913 - val_loss: 0.4505 - val_acc: 0.8698\n",
      "Epoch 13/20\n",
      "15000/15000 [==============================] - 2s 110us/step - loss: 0.0299 - acc: 0.9930 - val_loss: 0.4696 - val_acc: 0.8725\n",
      "Epoch 14/20\n",
      "15000/15000 [==============================] - 2s 111us/step - loss: 0.0247 - acc: 0.9948 - val_loss: 0.5025 - val_acc: 0.8717\n",
      "Epoch 15/20\n",
      "15000/15000 [==============================] - 2s 110us/step - loss: 0.0174 - acc: 0.9981 - val_loss: 0.5576 - val_acc: 0.8658\n",
      "Epoch 16/20\n",
      "15000/15000 [==============================] - 2s 111us/step - loss: 0.0139 - acc: 0.9983 - val_loss: 0.5885 - val_acc: 0.8673\n",
      "Epoch 17/20\n",
      "15000/15000 [==============================] - 2s 130us/step - loss: 0.0126 - acc: 0.9981 - val_loss: 0.6253 - val_acc: 0.8672\n",
      "Epoch 18/20\n",
      "15000/15000 [==============================] - 2s 118us/step - loss: 0.0106 - acc: 0.9979 - val_loss: 0.6471 - val_acc: 0.8701\n",
      "Epoch 19/20\n",
      "15000/15000 [==============================] - 2s 124us/step - loss: 0.0055 - acc: 0.9996 - val_loss: 0.7920 - val_acc: 0.8494\n",
      "Epoch 20/20\n",
      "15000/15000 [==============================] - 2s 114us/step - loss: 0.0067 - acc: 0.9993 - val_loss: 0.7118 - val_acc: 0.8667\n"
     ]
    }
   ],
   "source": [
    "x_val, partial_x_train = x_train[:10000], x_train[10000:]\n",
    "y_val, partial_y_train = y_train[:10000], y_train[10000:] \n",
    "history = model.fit(partial_x_train, partial_y_train,\n",
    "                    epochs=20, batch_size=512,\n",
    "                    validation_data=(x_val, y_val))"
   ]
  },
  {
   "cell_type": "markdown",
   "metadata": {
    "slideshow": {
     "slide_type": "subslide"
    }
   },
   "source": [
    "We can now retrieve visualize the loss on the validation data\n",
    "* The training loss keeps decreasing, due to gradient descent\n",
    "* The validation loss peaks after a few epochs, after which the model starts to overfit"
   ]
  },
  {
   "cell_type": "code",
   "execution_count": 6,
   "metadata": {
    "hide_input": true
   },
   "outputs": [
    {
     "data": {
      "image/png": "[encoded data removed]",
      "text/plain": [
       "<Figure size 432x288 with 1 Axes>"
      ]
     },
     "metadata": {},
     "output_type": "display_data"
    }
   ],
   "source": [
    "import matplotlib.pyplot as plt\n",
    "\n",
    "acc = history.history['acc']\n",
    "val_acc = history.history['val_acc']\n",
    "loss = history.history['loss']\n",
    "val_loss = history.history['val_loss']\n",
    "\n",
    "epochs = range(1, len(acc) + 1)\n",
    "\n",
    "# \"bo\" is for \"blue dot\"\n",
    "plt.plot(epochs, loss, 'bo', label='Training loss')\n",
    "# b is for \"solid blue line\"\n",
    "plt.plot(epochs, val_loss, 'b', label='Validation loss')\n",
    "plt.title('Training and validation loss')\n",
    "plt.xlabel('Epochs')\n",
    "plt.ylabel('Loss')\n",
    "plt.legend()\n",
    "\n",
    "plt.show()"
   ]
  },
  {
   "cell_type": "code",
   "execution_count": 7,
   "metadata": {
    "slideshow": {
     "slide_type": "skip"
    }
   },
   "outputs": [
    {
     "data": {
      "image/png": "[encoded data removed]",
      "text/plain": [
       "<Figure size 432x288 with 1 Axes>"
      ]
     },
     "metadata": {},
     "output_type": "display_data"
    }
   ],
   "source": [
    "# Alternative plotting code\n",
    "pd.DataFrame(history.history).plot();"
   ]
  },
  {
   "cell_type": "markdown",
   "metadata": {
    "slideshow": {
     "slide_type": "subslide"
    }
   },
   "source": [
    "We can also visualize the accuracy, with similar findings"
   ]
  },
  {
   "cell_type": "code",
   "execution_count": 8,
   "metadata": {
    "hide_input": true
   },
   "outputs": [
    {
     "data": {
      "image/png": "[encoded data removed]",
      "text/plain": [
       "<Figure size 432x288 with 1 Axes>"
      ]
     },
     "metadata": {},
     "output_type": "display_data"
    }
   ],
   "source": [
    "plt.clf()   # clear figure\n",
    "plt.plot(epochs, acc, 'bo', label='Training acc')\n",
    "plt.plot(epochs, val_acc, 'b', label='Validation acc')\n",
    "plt.title('Training and validation accuracy')\n",
    "plt.xlabel('Epochs')\n",
    "plt.ylabel('Accuracy')\n",
    "plt.legend()\n",
    "\n",
    "plt.show()"
   ]
  },
  {
   "cell_type": "markdown",
   "metadata": {
    "slideshow": {
     "slide_type": "subslide"
    }
   },
   "source": [
    "#### Early stopping\n",
    "One simple technique to avoid overfitting is to use the validation set to 'tune' the optimal number of epochs"
   ]
  },
  {
   "cell_type": "code",
   "execution_count": 9,
   "metadata": {},
   "outputs": [
    {
     "name": "stdout",
     "output_type": "stream",
     "text": [
      "Epoch 1/4\n",
      "25000/25000 [==============================] - 2s 83us/step - loss: 0.2226 - acc: 0.9457\n",
      "Epoch 2/4\n",
      "25000/25000 [==============================] - 2s 78us/step - loss: 0.1419 - acc: 0.9582\n",
      "Epoch 3/4\n",
      "25000/25000 [==============================] - 2s 77us/step - loss: 0.1122 - acc: 0.9668\n",
      "Epoch 4/4\n",
      "25000/25000 [==============================] - 2s 77us/step - loss: 0.0905 - acc: 0.9714\n",
      "25000/25000 [==============================] - 4s 162us/step\n",
      "Loss: 0.5101, Accuracy: 0.8592\n"
     ]
    }
   ],
   "source": [
    "model.fit(x_train, y_train, epochs=4, batch_size=512)\n",
    "result = model.evaluate(x_test, y_test)\n",
    "print(\"Loss: {:.4f}, Accuracy: {:.4f}\".format(*result))"
   ]
  },
  {
   "cell_type": "markdown",
   "metadata": {
    "slideshow": {
     "slide_type": "subslide"
    }
   },
   "source": [
    "#### Predictions\n",
    "Out of curiosity, let's look at a few predictions:"
   ]
  },
  {
   "cell_type": "code",
   "execution_count": 10,
   "metadata": {},
   "outputs": [
    {
     "name": "stdout",
     "output_type": "stream",
     "text": [
      "Review 0:  ? please give this one a miss br br ? ? and the rest of the cast rendered terrible performances the show is flat flat flat br br i don't know how michael madison could have allowed this one on his plate he almost seemed to know this wasn't going to work out and his performance was quite ? so all you madison fans give this a miss\n",
      "Predicted positiveness:  [0.016]\n",
      "\n",
      "Review 9:  ? this film is where the batman franchise ought to have stopped though i will ? that the ideas behind batman forever were excellent and could have been easily realised by a competent director as it turned out this was not to be the case br br apparently warner brothers executives were disappointed with how dark this second batman film from tim burton turned out apart from the idiocy of expecting anything else from burton and the conservative ? of their subsequent decision to turn the franchise into an homage to the sixties tv series i fail to understand how batman returns can be considered at all disappointing br br true it is not quite the equal of the first film though it ? all the minor ? of style found in batman a weaker script that ? the ? between not just two but three characters invites ? comparisons to the masterful pairing of keaton and jack nicholson as the joker in the first film yet for all this it remains a ? dark film true to the way the batman was always meant to be and highly satisfying br br michael keaton returns as the batman and his alter ego bruce wayne with ? max ? christopher walken named in honour of the 1920s german silent actor his partner in crime ? ? the penguin danny ? in brilliant makeup reminiscent of laurence ? richard iii and ? kyle the ? michelle pfeiffer whom wayne romances both as himself and as the batman the four principals turn in excellent performances especially walken and ? while together keaton and pfeiffer explore the darker side of double identities br br there are some intriguing concepts in this film about the only weakness i can really point out is a certain to the script in some places which i think is due mostly to the way this film is a four ? fight there simply isn't enough time to properly explore what's going on br br nevertheless this is a damn good film i highly recommend watching this in ? with the first and then ? for how good the series could have been had it continued under burton and keaton\n",
      "Predicted positiveness:  [1.]\n"
     ]
    }
   ],
   "source": [
    "predictions = model.predict(x_test)\n",
    "print(\"Review 0: \", ' '.join([reverse_word_index.get(i - 3, '?') for i in test_data[0]]))\n",
    "print(\"Predicted positiveness: \", predictions[0])\n",
    "print(\"\\nReview 9: \", ' '.join([reverse_word_index.get(i - 3, '?') for i in test_data[9]]))\n",
    "print(\"Predicted positiveness: \", predictions[9])"
   ]
  },
  {
   "cell_type": "markdown",
   "metadata": {
    "slideshow": {
     "slide_type": "subslide"
    }
   },
   "source": [
    "#### Takeaways\n",
    "* Neural nets require a lot of preprocessing to create tensors\n",
    "* Dense layers with ReLU activation can solve a wide range of problems\n",
    "* Binary classification can be donw with a Dense layer with a single unit, sigmoid activation, and binary cross-entropy loss\n",
    "* Neural nets overfit easily\n",
    "* Many design choices have an effect on accuracy and overfitting. Try:\n",
    "    - 1 or 3 hidden layers\n",
    "    - more or fewer hidden units (e.g. 64)\n",
    "    - MSE loss instead of binary cross-entropy\n",
    "    - `tanh` activation instead of `ReLU`"
   ]
  },
  {
   "cell_type": "markdown",
   "metadata": {
    "slideshow": {
     "slide_type": "slide"
    }
   },
   "source": [
    "### Wrapping Keras models as scikit-learn estimators\n",
    "* Model selection can be tedious in pure Keras\n",
    "* We can use all the power of scikit-learn by wrapping Keras models\n",
    "\n",
    "``` python\n",
    "from keras.wrappers.scikit_learn import KerasClassifier, KerasRegressor\n",
    "clf = KerasClassifier(model)\n",
    "```"
   ]
  },
  {
   "cell_type": "code",
   "execution_count": 11,
   "metadata": {
    "slideshow": {
     "slide_type": "subslide"
    }
   },
   "outputs": [
    {
     "name": "stdout",
     "output_type": "stream",
     "text": [
      "Epoch 1/1\n",
      "16666/16666 [==============================] - 4s 232us/step - loss: 0.3399 - acc: 0.8594\n",
      "8334/8334 [==============================] - 1s 169us/step\n",
      "16666/16666 [==============================] - 1s 70us/step\n",
      "Epoch 1/1\n",
      "16667/16667 [==============================] - 3s 181us/step - loss: 0.3364 - acc: 0.8611\n",
      "8333/8333 [==============================] - 1s 161us/step\n",
      "16667/16667 [==============================] - 1s 71us/step\n",
      "Epoch 1/1\n",
      "16667/16667 [==============================] - 2s 134us/step - loss: 0.3379 - acc: 0.8615\n",
      "8333/8333 [==============================] - 1s 146us/step\n",
      "16667/16667 [==============================] - 1s 65us/step\n",
      "Epoch 1/1\n",
      "16666/16666 [==============================] - 2s 143us/step - loss: 0.3411 - acc: 0.8642\n",
      "8334/8334 [==============================] - 1s 155us/step\n",
      "16666/16666 [==============================] - 1s 84us/step\n",
      "Epoch 1/1\n",
      "16667/16667 [==============================] - 2s 134us/step - loss: 0.3377 - acc: 0.8631\n",
      "8333/8333 [==============================] - 1s 139us/step\n",
      "16667/16667 [==============================] - 1s 73us/step\n",
      "Epoch 1/1\n",
      "16667/16667 [==============================] - 3s 163us/step - loss: 0.3468 - acc: 0.8592\n",
      "8333/8333 [==============================] - 1s 165us/step\n",
      "16667/16667 [==============================] - 2s 113us/step\n",
      "Epoch 1/1\n",
      "16666/16666 [==============================] - 4s 237us/step - loss: 0.3404 - acc: 0.8587\n",
      "8334/8334 [==============================] - 1s 178us/step\n",
      "16666/16666 [==============================] - 1s 76us/step\n",
      "Epoch 1/1\n",
      "16667/16667 [==============================] - 4s 223us/step - loss: 0.3484 - acc: 0.8577\n",
      "8333/8333 [==============================] - 2s 192us/step\n",
      "16667/16667 [==============================] - 1s 79us/step\n",
      "Epoch 1/1\n",
      "16667/16667 [==============================] - 3s 182us/step - loss: 0.3389 - acc: 0.8615\n",
      "8333/8333 [==============================] - 2s 192us/step\n",
      "16667/16667 [==============================] - 1s 81us/step\n",
      "Epoch 1/5\n",
      "16666/16666 [==============================] - 3s 169us/step - loss: 0.3404 - acc: 0.8607\n",
      "Epoch 2/5\n",
      "16666/16666 [==============================] - 2s 141us/step - loss: 0.2042 - acc: 0.9218\n",
      "Epoch 3/5\n",
      "16666/16666 [==============================] - 2s 145us/step - loss: 0.1620 - acc: 0.9384\n",
      "Epoch 4/5\n",
      "16666/16666 [==============================] - 2s 140us/step - loss: 0.1367 - acc: 0.9500\n",
      "Epoch 5/5\n",
      "16666/16666 [==============================] - 2s 136us/step - loss: 0.1158 - acc: 0.9566\n",
      "8334/8334 [==============================] - 2s 202us/step\n",
      "16666/16666 [==============================] - 1s 75us/step\n",
      "Epoch 1/5\n",
      "16667/16667 [==============================] - 3s 163us/step - loss: 0.3436 - acc: 0.8587\n",
      "Epoch 2/5\n",
      "16667/16667 [==============================] - 2s 130us/step - loss: 0.2034 - acc: 0.9228\n",
      "Epoch 3/5\n",
      "16667/16667 [==============================] - 2s 135us/step - loss: 0.1637 - acc: 0.9399\n",
      "Epoch 4/5\n",
      "16667/16667 [==============================] - 2s 137us/step - loss: 0.1354 - acc: 0.9537\n",
      "Epoch 5/5\n",
      "16667/16667 [==============================] - 2s 133us/step - loss: 0.1153 - acc: 0.9609\n",
      "8333/8333 [==============================] - 2s 221us/step\n",
      "16667/16667 [==============================] - 1s 83us/step\n",
      "Epoch 1/5\n",
      "16667/16667 [==============================] - 3s 171us/step - loss: 0.3400 - acc: 0.8601\n",
      "Epoch 2/5\n",
      "16667/16667 [==============================] - 2s 148us/step - loss: 0.2060 - acc: 0.9218\n",
      "Epoch 3/5\n",
      "16667/16667 [==============================] - 2s 140us/step - loss: 0.1616 - acc: 0.9402\n",
      "Epoch 4/5\n",
      "16667/16667 [==============================] - 2s 140us/step - loss: 0.1365 - acc: 0.9517\n",
      "Epoch 5/5\n",
      "16667/16667 [==============================] - 2s 141us/step - loss: 0.1139 - acc: 0.9605\n",
      "8333/8333 [==============================] - 2s 200us/step\n",
      "16667/16667 [==============================] - 2s 98us/step\n",
      "Epoch 1/5\n",
      "16666/16666 [==============================] - 4s 255us/step - loss: 0.3476 - acc: 0.8572\n",
      "Epoch 2/5\n",
      "16666/16666 [==============================] - 2s 146us/step - loss: 0.2076 - acc: 0.9218\n",
      "Epoch 3/5\n",
      "16666/16666 [==============================] - 2s 145us/step - loss: 0.1635 - acc: 0.9387\n",
      "Epoch 4/5\n",
      "16666/16666 [==============================] - 2s 144us/step - loss: 0.1361 - acc: 0.9509\n",
      "Epoch 5/5\n",
      "16666/16666 [==============================] - 2s 145us/step - loss: 0.1143 - acc: 0.9587\n",
      "8334/8334 [==============================] - 2s 198us/step\n",
      "16666/16666 [==============================] - 1s 77us/step\n",
      "Epoch 1/5\n",
      "16667/16667 [==============================] - 3s 186us/step - loss: 0.3513 - acc: 0.8544\n",
      "Epoch 2/5\n",
      "16667/16667 [==============================] - 2s 149us/step - loss: 0.2048 - acc: 0.9224\n",
      "Epoch 3/5\n",
      "16667/16667 [==============================] - 2s 141us/step - loss: 0.1648 - acc: 0.9393\n",
      "Epoch 4/5\n",
      "16667/16667 [==============================] - 2s 147us/step - loss: 0.1369 - acc: 0.9505\n",
      "Epoch 5/5\n",
      "16667/16667 [==============================] - 3s 158us/step - loss: 0.1178 - acc: 0.9579\n",
      "8333/8333 [==============================] - 2s 188us/step\n",
      "16667/16667 [==============================] - 1s 81us/step\n",
      "Epoch 1/5\n",
      "16667/16667 [==============================] - 4s 227us/step - loss: 0.3544 - acc: 0.8584\n",
      "Epoch 2/5\n",
      "16667/16667 [==============================] - 2s 141us/step - loss: 0.2073 - acc: 0.9210\n",
      "Epoch 3/5\n",
      "16667/16667 [==============================] - 3s 157us/step - loss: 0.1651 - acc: 0.9384\n",
      "Epoch 4/5\n",
      "16667/16667 [==============================] - 3s 151us/step - loss: 0.1357 - acc: 0.9510\n",
      "Epoch 5/5\n",
      "16667/16667 [==============================] - 2s 144us/step - loss: 0.1149 - acc: 0.9595\n",
      "8333/8333 [==============================] - 2s 184us/step\n",
      "16667/16667 [==============================] - 1s 73us/step\n",
      "Epoch 1/5\n",
      "16666/16666 [==============================] - 4s 227us/step - loss: 0.3410 - acc: 0.8572\n",
      "Epoch 2/5\n",
      "16666/16666 [==============================] - 2s 150us/step - loss: 0.2032 - acc: 0.9222\n",
      "Epoch 3/5\n",
      "16666/16666 [==============================] - 2s 143us/step - loss: 0.1625 - acc: 0.9399\n",
      "Epoch 4/5\n",
      "16666/16666 [==============================] - 2s 144us/step - loss: 0.1324 - acc: 0.9492\n",
      "Epoch 5/5\n",
      "16666/16666 [==============================] - 3s 162us/step - loss: 0.1093 - acc: 0.9596\n",
      "8334/8334 [==============================] - 2s 210us/step\n",
      "16666/16666 [==============================] - 1s 89us/step\n",
      "Epoch 1/5\n",
      "16667/16667 [==============================] - 5s 279us/step - loss: 0.3448 - acc: 0.8612\n",
      "Epoch 2/5\n",
      "16667/16667 [==============================] - 2s 149us/step - loss: 0.2058 - acc: 0.9211\n",
      "Epoch 3/5\n",
      "16667/16667 [==============================] - 2s 150us/step - loss: 0.1647 - acc: 0.9412\n",
      "Epoch 4/5\n",
      "16667/16667 [==============================] - 2s 145us/step - loss: 0.1414 - acc: 0.9498\n",
      "Epoch 5/5\n",
      "16667/16667 [==============================] - 2s 143us/step - loss: 0.1236 - acc: 0.9560\n",
      "8333/8333 [==============================] - 2s 189us/step\n",
      "16667/16667 [==============================] - 1s 67us/step\n",
      "Epoch 1/5\n",
      "16667/16667 [==============================] - 3s 197us/step - loss: 0.3601 - acc: 0.8532\n",
      "Epoch 2/5\n",
      "16667/16667 [==============================] - 2s 150us/step - loss: 0.2102 - acc: 0.9200\n",
      "Epoch 3/5\n",
      "16667/16667 [==============================] - 3s 156us/step - loss: 0.1677 - acc: 0.9373\n",
      "Epoch 4/5\n",
      "16667/16667 [==============================] - 3s 154us/step - loss: 0.1401 - acc: 0.9485\n",
      "Epoch 5/5\n",
      "16667/16667 [==============================] - 3s 168us/step - loss: 0.1176 - acc: 0.9587\n",
      "8333/8333 [==============================] - 2s 186us/step\n",
      "16667/16667 [==============================] - 2s 93us/step\n",
      "Epoch 1/10\n",
      "16666/16666 [==============================] - 4s 256us/step - loss: 0.3512 - acc: 0.8592\n",
      "Epoch 2/10\n",
      "16666/16666 [==============================] - 2s 135us/step - loss: 0.2046 - acc: 0.9207\n",
      "Epoch 3/10\n",
      "16666/16666 [==============================] - 2s 144us/step - loss: 0.1631 - acc: 0.9422\n",
      "Epoch 4/10\n",
      "16666/16666 [==============================] - 2s 147us/step - loss: 0.1358 - acc: 0.9494\n",
      "Epoch 5/10\n",
      "16666/16666 [==============================] - 2s 138us/step - loss: 0.1150 - acc: 0.9576\n",
      "Epoch 6/10\n",
      "16666/16666 [==============================] - 2s 138us/step - loss: 0.0977 - acc: 0.9647\n",
      "Epoch 7/10\n"
     ]
    },
    {
     "name": "stdout",
     "output_type": "stream",
     "text": [
      "16666/16666 [==============================] - 2s 127us/step - loss: 0.0828 - acc: 0.9707\n",
      "Epoch 8/10\n",
      "16666/16666 [==============================] - 2s 121us/step - loss: 0.0694 - acc: 0.9749\n",
      "Epoch 9/10\n",
      "16666/16666 [==============================] - 2s 123us/step - loss: 0.0578 - acc: 0.9803\n",
      "Epoch 10/10\n",
      "16666/16666 [==============================] - 2s 123us/step - loss: 0.0485 - acc: 0.9842\n",
      "8334/8334 [==============================] - 2s 190us/step\n",
      "16666/16666 [==============================] - 1s 65us/step\n",
      "Epoch 1/10\n",
      "16667/16667 [==============================] - 3s 207us/step - loss: 0.3407 - acc: 0.8583\n",
      "Epoch 2/10\n",
      "16667/16667 [==============================] - 2s 138us/step - loss: 0.2050 - acc: 0.9241\n",
      "Epoch 3/10\n",
      "16667/16667 [==============================] - 2s 134us/step - loss: 0.1612 - acc: 0.9414\n",
      "Epoch 4/10\n",
      "16667/16667 [==============================] - 2s 145us/step - loss: 0.1354 - acc: 0.9508\n",
      "Epoch 5/10\n",
      "16667/16667 [==============================] - 2s 144us/step - loss: 0.1143 - acc: 0.9604\n",
      "Epoch 6/10\n",
      "16667/16667 [==============================] - 2s 143us/step - loss: 0.0968 - acc: 0.9677\n",
      "Epoch 7/10\n",
      "16667/16667 [==============================] - 2s 144us/step - loss: 0.0836 - acc: 0.9735\n",
      "Epoch 8/10\n",
      "16667/16667 [==============================] - 2s 140us/step - loss: 0.0692 - acc: 0.9778\n",
      "Epoch 9/10\n",
      "16667/16667 [==============================] - 3s 165us/step - loss: 0.0584 - acc: 0.9821\n",
      "Epoch 10/10\n",
      "16667/16667 [==============================] - 2s 150us/step - loss: 0.0483 - acc: 0.9852\n",
      "8333/8333 [==============================] - 2s 192us/step\n",
      "16667/16667 [==============================] - 1s 72us/step\n",
      "Epoch 1/10\n",
      "16667/16667 [==============================] - 4s 232us/step - loss: 0.3429 - acc: 0.8572\n",
      "Epoch 2/10\n",
      "16667/16667 [==============================] - 2s 133us/step - loss: 0.2069 - acc: 0.9224\n",
      "Epoch 3/10\n",
      "16667/16667 [==============================] - 2s 136us/step - loss: 0.1659 - acc: 0.9390\n",
      "Epoch 4/10\n",
      "16667/16667 [==============================] - 3s 152us/step - loss: 0.1392 - acc: 0.9502\n",
      "Epoch 5/10\n",
      "16667/16667 [==============================] - 2s 137us/step - loss: 0.1174 - acc: 0.9584\n",
      "Epoch 6/10\n",
      "16667/16667 [==============================] - 2s 129us/step - loss: 0.1005 - acc: 0.9639\n",
      "Epoch 7/10\n",
      "16667/16667 [==============================] - 2s 130us/step - loss: 0.0842 - acc: 0.9713\n",
      "Epoch 8/10\n",
      "16667/16667 [==============================] - 2s 131us/step - loss: 0.0714 - acc: 0.9761\n",
      "Epoch 9/10\n",
      "16667/16667 [==============================] - 2s 142us/step - loss: 0.0611 - acc: 0.9800\n",
      "Epoch 10/10\n",
      "16667/16667 [==============================] - 2s 134us/step - loss: 0.0507 - acc: 0.9836\n",
      "8333/8333 [==============================] - 2s 216us/step\n",
      "16667/16667 [==============================] - 1s 81us/step\n",
      "Epoch 1/10\n",
      "16666/16666 [==============================] - 4s 227us/step - loss: 0.3465 - acc: 0.8604\n",
      "Epoch 2/10\n",
      "16666/16666 [==============================] - 2s 134us/step - loss: 0.2055 - acc: 0.9201\n",
      "Epoch 3/10\n",
      "16666/16666 [==============================] - 2s 142us/step - loss: 0.1659 - acc: 0.9367\n",
      "Epoch 4/10\n",
      "16666/16666 [==============================] - 2s 143us/step - loss: 0.1409 - acc: 0.9479\n",
      "Epoch 5/10\n",
      "16666/16666 [==============================] - 3s 174us/step - loss: 0.1201 - acc: 0.9565\n",
      "Epoch 6/10\n",
      "16666/16666 [==============================] - 2s 149us/step - loss: 0.1020 - acc: 0.9644\n",
      "Epoch 7/10\n",
      "16666/16666 [==============================] - 2s 148us/step - loss: 0.0880 - acc: 0.9689\n",
      "Epoch 8/10\n",
      "16666/16666 [==============================] - 3s 155us/step - loss: 0.0746 - acc: 0.9751\n",
      "Epoch 9/10\n",
      "16666/16666 [==============================] - 2s 145us/step - loss: 0.0622 - acc: 0.9789\n",
      "Epoch 10/10\n",
      "16666/16666 [==============================] - 2s 140us/step - loss: 0.0527 - acc: 0.9833\n",
      "8334/8334 [==============================] - 2s 210us/step\n",
      "16666/16666 [==============================] - 1s 75us/step\n",
      "Epoch 1/10\n",
      "16667/16667 [==============================] - 4s 265us/step - loss: 0.3425 - acc: 0.8588\n",
      "Epoch 2/10\n",
      "16667/16667 [==============================] - 3s 170us/step - loss: 0.2038 - acc: 0.9237\n",
      "Epoch 3/10\n",
      "16667/16667 [==============================] - 2s 146us/step - loss: 0.1605 - acc: 0.9420\n",
      "Epoch 4/10\n",
      "16667/16667 [==============================] - 2s 149us/step - loss: 0.1300 - acc: 0.9543\n",
      "Epoch 5/10\n",
      "16667/16667 [==============================] - 2s 146us/step - loss: 0.1089 - acc: 0.9629\n",
      "Epoch 6/10\n",
      "16667/16667 [==============================] - 2s 146us/step - loss: 0.0905 - acc: 0.9689\n",
      "Epoch 7/10\n",
      "16667/16667 [==============================] - 2s 141us/step - loss: 0.0740 - acc: 0.9777\n",
      "Epoch 8/10\n",
      "16667/16667 [==============================] - 3s 151us/step - loss: 0.0614 - acc: 0.9815\n",
      "Epoch 9/10\n",
      "16667/16667 [==============================] - 2s 149us/step - loss: 0.0506 - acc: 0.9843\n",
      "Epoch 10/10\n",
      "16667/16667 [==============================] - 2s 135us/step - loss: 0.0396 - acc: 0.9888\n",
      "8333/8333 [==============================] - 2s 195us/step\n",
      "16667/16667 [==============================] - 1s 75us/step\n",
      "Epoch 1/10\n",
      "16667/16667 [==============================] - 4s 264us/step - loss: 0.3411 - acc: 0.8600\n",
      "Epoch 2/10\n",
      "16667/16667 [==============================] - 3s 185us/step - loss: 0.2062 - acc: 0.9225\n",
      "Epoch 3/10\n",
      "16667/16667 [==============================] - 3s 172us/step - loss: 0.1663 - acc: 0.9379\n",
      "Epoch 4/10\n",
      "16667/16667 [==============================] - 2s 136us/step - loss: 0.1409 - acc: 0.9483\n",
      "Epoch 5/10\n",
      "16667/16667 [==============================] - 3s 151us/step - loss: 0.1226 - acc: 0.9572\n",
      "Epoch 6/10\n",
      "16667/16667 [==============================] - 2s 135us/step - loss: 0.1044 - acc: 0.9620\n",
      "Epoch 7/10\n",
      "16667/16667 [==============================] - 2s 137us/step - loss: 0.0892 - acc: 0.9684\n",
      "Epoch 8/10\n",
      "16667/16667 [==============================] - 2s 136us/step - loss: 0.0755 - acc: 0.9752\n",
      "Epoch 9/10\n",
      "16667/16667 [==============================] - 2s 131us/step - loss: 0.0626 - acc: 0.9789\n",
      "Epoch 10/10\n",
      "16667/16667 [==============================] - 2s 142us/step - loss: 0.0517 - acc: 0.9823\n",
      "8333/8333 [==============================] - 2s 203us/step\n",
      "16667/16667 [==============================] - 1s 84us/step\n",
      "Epoch 1/10\n",
      "16666/16666 [==============================] - 7s 445us/step - loss: 0.3425 - acc: 0.8594\n",
      "Epoch 2/10\n",
      "16666/16666 [==============================] - 2s 138us/step - loss: 0.2036 - acc: 0.9226\n",
      "Epoch 3/10\n",
      "16666/16666 [==============================] - 2s 129us/step - loss: 0.1625 - acc: 0.9382\n",
      "Epoch 4/10\n",
      "16666/16666 [==============================] - 2s 135us/step - loss: 0.1384 - acc: 0.9480\n",
      "Epoch 5/10\n",
      "16666/16666 [==============================] - 2s 136us/step - loss: 0.1182 - acc: 0.9562 0s - loss: 0.1171 - acc: 0.95\n",
      "Epoch 6/10\n",
      "16666/16666 [==============================] - 2s 145us/step - loss: 0.1015 - acc: 0.9641\n",
      "Epoch 7/10\n",
      "16666/16666 [==============================] - 3s 194us/step - loss: 0.0852 - acc: 0.9698\n",
      "Epoch 8/10\n",
      "16666/16666 [==============================] - 883s 53ms/step - loss: 0.0728 - acc: 0.9748\n",
      "Epoch 9/10\n",
      "16666/16666 [==============================] - 5s 291us/step - loss: 0.0609 - acc: 0.9793\n",
      "Epoch 10/10\n",
      "16666/16666 [==============================] - 3s 203us/step - loss: 0.0492 - acc: 0.9843\n",
      "8334/8334 [==============================] - 4s 482us/step\n",
      "16666/16666 [==============================] - 4s 238us/step\n",
      "Epoch 1/10\n",
      "16667/16667 [==============================] - 6s 353us/step - loss: 0.3473 - acc: 0.8576\n",
      "Epoch 2/10\n",
      "16667/16667 [==============================] - 2s 143us/step - loss: 0.2049 - acc: 0.9235\n",
      "Epoch 3/10\n",
      "16667/16667 [==============================] - 3s 169us/step - loss: 0.1639 - acc: 0.9417\n",
      "Epoch 4/10\n",
      "16667/16667 [==============================] - 2s 150us/step - loss: 0.1391 - acc: 0.9506\n",
      "Epoch 5/10\n",
      "16667/16667 [==============================] - 2s 142us/step - loss: 0.1177 - acc: 0.9574\n",
      "Epoch 6/10\n",
      "16667/16667 [==============================] - 2s 144us/step - loss: 0.0999 - acc: 0.9672\n",
      "Epoch 7/10\n",
      "16667/16667 [==============================] - 3s 151us/step - loss: 0.0846 - acc: 0.9714\n",
      "Epoch 8/10\n",
      "16667/16667 [==============================] - 2s 142us/step - loss: 0.0703 - acc: 0.9767\n",
      "Epoch 9/10\n"
     ]
    },
    {
     "name": "stdout",
     "output_type": "stream",
     "text": [
      "16667/16667 [==============================] - 3s 163us/step - loss: 0.0558 - acc: 0.9821\n",
      "Epoch 10/10\n",
      "16667/16667 [==============================] - 2s 129us/step - loss: 0.0432 - acc: 0.9866\n",
      "8333/8333 [==============================] - 2s 234us/step\n",
      "16667/16667 [==============================] - 1s 84us/step\n",
      "Epoch 1/10\n",
      "16667/16667 [==============================] - 5s 285us/step - loss: 0.3472 - acc: 0.8585\n",
      "Epoch 2/10\n",
      "16667/16667 [==============================] - 4s 248us/step - loss: 0.2068 - acc: 0.9224\n",
      "Epoch 3/10\n",
      "16667/16667 [==============================] - 2s 126us/step - loss: 0.1676 - acc: 0.9389\n",
      "Epoch 4/10\n",
      "16667/16667 [==============================] - 2s 128us/step - loss: 0.1389 - acc: 0.9486\n",
      "Epoch 5/10\n",
      "16667/16667 [==============================] - 2s 137us/step - loss: 0.1228 - acc: 0.9555\n",
      "Epoch 6/10\n",
      "16667/16667 [==============================] - 2s 145us/step - loss: 0.1054 - acc: 0.9635\n",
      "Epoch 7/10\n",
      "16667/16667 [==============================] - 2s 127us/step - loss: 0.0914 - acc: 0.9677\n",
      "Epoch 8/10\n",
      "16667/16667 [==============================] - 2s 133us/step - loss: 0.0783 - acc: 0.9743\n",
      "Epoch 9/10\n",
      "16667/16667 [==============================] - 2s 113us/step - loss: 0.0664 - acc: 0.9776\n",
      "Epoch 10/10\n",
      "16667/16667 [==============================] - 2s 110us/step - loss: 0.0549 - acc: 0.9818\n",
      "8333/8333 [==============================] - 726s 87ms/step\n",
      "16667/16667 [==============================] - 5s 305us/step\n",
      "Epoch 1/1\n",
      "25000/25000 [==============================] - 6s 257us/step - loss: 0.3218 - acc: 0.8688\n"
     ]
    },
    {
     "data": {
      "text/plain": [
       "GridSearchCV(cv=3, error_score='raise-deprecating',\n",
       "       estimator=<keras.wrappers.scikit_learn.KerasClassifier object at 0x1c2e90d0f0>,\n",
       "       fit_params=None, iid='warn', n_jobs=None,\n",
       "       param_grid={'epochs': [1, 5, 10], 'hidden_size': [32, 64, 256]},\n",
       "       pre_dispatch='2*n_jobs', refit=True, return_train_score='warn',\n",
       "       scoring=None, verbose=0)"
      ]
     },
     "execution_count": 11,
     "metadata": {},
     "output_type": "execute_result"
    }
   ],
   "source": [
    "from keras.wrappers.scikit_learn import KerasClassifier, KerasRegressor\n",
    "from sklearn.model_selection import GridSearchCV\n",
    "\n",
    "def make_model(optimizer=\"adam\", hidden_size=32):\n",
    "    model = models.Sequential()\n",
    "    model.add(layers.Dense(16, activation='relu', input_shape=(10000,)))\n",
    "    model.add(layers.Dense(16, activation='relu'))\n",
    "    model.add(layers.Dense(1, activation='sigmoid'))\n",
    "\n",
    "    model.compile(optimizer='rmsprop',\n",
    "                  loss='binary_crossentropy',\n",
    "                  metrics=['accuracy'])\n",
    "    return model\n",
    "\n",
    "clf = KerasClassifier(make_model)\n",
    "param_grid = {'epochs': [1, 5, 10],  # epochs is fit parameter, not in make_model!\n",
    "              'hidden_size': [32, 64, 256]}\n",
    "grid = GridSearchCV(clf, param_grid=param_grid, cv=3)\n",
    "grid.fit(x_train, y_train)"
   ]
  },
  {
   "cell_type": "code",
   "execution_count": 12,
   "metadata": {
    "slideshow": {
     "slide_type": "subslide"
    }
   },
   "outputs": [
    {
     "data": {
      "text/html": [
       "<div>\n",
       "<style scoped>\n",
       "    .dataframe tbody tr th:only-of-type {\n",
       "        vertical-align: middle;\n",
       "    }\n",
       "\n",
       "    .dataframe tbody tr th {\n",
       "        vertical-align: top;\n",
       "    }\n",
       "\n",
       "    .dataframe thead th {\n",
       "        text-align: right;\n",
       "    }\n",
       "</style>\n",
       "<table border=\"1\" class=\"dataframe\">\n",
       "  <thead>\n",
       "    <tr style=\"text-align: right;\">\n",
       "      <th></th>\n",
       "      <th></th>\n",
       "      <th>mean_test_score</th>\n",
       "      <th>mean_train_score</th>\n",
       "    </tr>\n",
       "    <tr>\n",
       "      <th>param_epochs</th>\n",
       "      <th>param_hidden_size</th>\n",
       "      <th></th>\n",
       "      <th></th>\n",
       "    </tr>\n",
       "  </thead>\n",
       "  <tbody>\n",
       "    <tr>\n",
       "      <th rowspan=\"3\" valign=\"top\">1</th>\n",
       "      <th>32</th>\n",
       "      <td>0.89</td>\n",
       "      <td>0.94</td>\n",
       "    </tr>\n",
       "    <tr>\n",
       "      <th>64</th>\n",
       "      <td>0.89</td>\n",
       "      <td>0.93</td>\n",
       "    </tr>\n",
       "    <tr>\n",
       "      <th>256</th>\n",
       "      <td>0.89</td>\n",
       "      <td>0.93</td>\n",
       "    </tr>\n",
       "    <tr>\n",
       "      <th rowspan=\"3\" valign=\"top\">5</th>\n",
       "      <th>32</th>\n",
       "      <td>0.88</td>\n",
       "      <td>0.97</td>\n",
       "    </tr>\n",
       "    <tr>\n",
       "      <th>64</th>\n",
       "      <td>0.88</td>\n",
       "      <td>0.98</td>\n",
       "    </tr>\n",
       "    <tr>\n",
       "      <th>256</th>\n",
       "      <td>0.88</td>\n",
       "      <td>0.97</td>\n",
       "    </tr>\n",
       "    <tr>\n",
       "      <th rowspan=\"3\" valign=\"top\">10</th>\n",
       "      <th>32</th>\n",
       "      <td>0.87</td>\n",
       "      <td>0.99</td>\n",
       "    </tr>\n",
       "    <tr>\n",
       "      <th>64</th>\n",
       "      <td>0.87</td>\n",
       "      <td>0.99</td>\n",
       "    </tr>\n",
       "    <tr>\n",
       "      <th>256</th>\n",
       "      <td>0.87</td>\n",
       "      <td>0.99</td>\n",
       "    </tr>\n",
       "  </tbody>\n",
       "</table>\n",
       "</div>"
      ],
      "text/plain": [
       "                                mean_test_score  mean_train_score\n",
       "param_epochs param_hidden_size                                   \n",
       "1            32                            0.89              0.94\n",
       "             64                            0.89              0.93\n",
       "             256                           0.89              0.93\n",
       "5            32                            0.88              0.97\n",
       "             64                            0.88              0.98\n",
       "             256                           0.88              0.97\n",
       "10           32                            0.87              0.99\n",
       "             64                            0.87              0.99\n",
       "             256                           0.87              0.99"
      ]
     },
     "execution_count": 12,
     "metadata": {},
     "output_type": "execute_result"
    }
   ],
   "source": [
    "res = pd.DataFrame(grid.cv_results_)\n",
    "res.pivot_table(index=[\"param_epochs\", \"param_hidden_size\"],\n",
    "                values=['mean_train_score', \"mean_test_score\"])"
   ]
  },
  {
   "cell_type": "code",
   "execution_count": 13,
   "metadata": {
    "slideshow": {
     "slide_type": "skip"
    }
   },
   "outputs": [
    {
     "name": "stdout",
     "output_type": "stream",
     "text": [
      "Train on 15000 samples, validate on 10000 samples\n",
      "Epoch 1/20\n",
      "15000/15000 [==============================] - 3s 197us/step - loss: 0.5372 - acc: 0.7767 - val_loss: 0.4068 - val_acc: 0.8600\n",
      "Epoch 2/20\n",
      "15000/15000 [==============================] - 2s 102us/step - loss: 0.3089 - acc: 0.9006 - val_loss: 0.2991 - val_acc: 0.8859\n",
      "Epoch 3/20\n",
      "15000/15000 [==============================] - 2s 101us/step - loss: 0.2166 - acc: 0.9287 - val_loss: 0.3049 - val_acc: 0.8762\n",
      "Epoch 4/20\n",
      "15000/15000 [==============================] - 2s 105us/step - loss: 0.1679 - acc: 0.9424 - val_loss: 0.2783 - val_acc: 0.8893\n",
      "Epoch 5/20\n",
      "15000/15000 [==============================] - 2s 105us/step - loss: 0.1380 - acc: 0.9537 - val_loss: 0.2833 - val_acc: 0.8896\n",
      "Epoch 6/20\n",
      "15000/15000 [==============================] - 2s 102us/step - loss: 0.1070 - acc: 0.9655 - val_loss: 0.3157 - val_acc: 0.8852\n",
      "Epoch 7/20\n",
      "15000/15000 [==============================] - 2s 145us/step - loss: 0.0904 - acc: 0.9717 - val_loss: 0.3334 - val_acc: 0.8831\n",
      "Epoch 8/20\n",
      "15000/15000 [==============================] - 2s 138us/step - loss: 0.0659 - acc: 0.9823 - val_loss: 0.3558 - val_acc: 0.8793\n",
      "Epoch 9/20\n",
      "15000/15000 [==============================] - 2s 105us/step - loss: 0.0584 - acc: 0.9831 - val_loss: 0.3921 - val_acc: 0.8754\n",
      "Epoch 10/20\n",
      "15000/15000 [==============================] - 2s 104us/step - loss: 0.0395 - acc: 0.9905 - val_loss: 0.4800 - val_acc: 0.8680\n",
      "Epoch 11/20\n",
      "15000/15000 [==============================] - 2s 101us/step - loss: 0.0343 - acc: 0.9909 - val_loss: 0.4592 - val_acc: 0.8706\n",
      "Epoch 12/20\n",
      "15000/15000 [==============================] - 2s 103us/step - loss: 0.0275 - acc: 0.9930 - val_loss: 0.5004 - val_acc: 0.8689\n",
      "Epoch 13/20\n",
      "15000/15000 [==============================] - 2s 105us/step - loss: 0.0240 - acc: 0.9941 - val_loss: 0.5151 - val_acc: 0.8717\n",
      "Epoch 14/20\n",
      "15000/15000 [==============================] - 2s 102us/step - loss: 0.0094 - acc: 0.9989 - val_loss: 0.5543 - val_acc: 0.8707\n",
      "Epoch 15/20\n",
      "15000/15000 [==============================] - 2s 103us/step - loss: 0.0167 - acc: 0.9964 - val_loss: 0.5856 - val_acc: 0.8707\n",
      "Epoch 16/20\n",
      "15000/15000 [==============================] - 2s 104us/step - loss: 0.0055 - acc: 0.9996 - val_loss: 0.6543 - val_acc: 0.8681\n",
      "Epoch 17/20\n",
      "15000/15000 [==============================] - 2s 102us/step - loss: 0.0120 - acc: 0.9955 - val_loss: 0.6629 - val_acc: 0.8704\n",
      "Epoch 18/20\n",
      "15000/15000 [==============================] - 2s 102us/step - loss: 0.0022 - acc: 0.9999 - val_loss: 0.6955 - val_acc: 0.8695\n",
      "Epoch 19/20\n",
      "15000/15000 [==============================] - 2s 105us/step - loss: 0.0016 - acc: 0.9999 - val_loss: 0.7731 - val_acc: 0.8631\n",
      "Epoch 20/20\n",
      "15000/15000 [==============================] - 2s 104us/step - loss: 0.0089 - acc: 0.9974 - val_loss: 0.7599 - val_acc: 0.8687\n"
     ]
    },
    {
     "data": {
      "image/png": "[encoded data removed]",
      "text/plain": [
       "<Figure size 432x288 with 1 Axes>"
      ]
     },
     "metadata": {},
     "output_type": "display_data"
    }
   ],
   "source": [
    "# Three hidden layers\n",
    "model = models.Sequential()\n",
    "model.add(layers.Dense(16, activation='relu', input_shape=(10000,)))\n",
    "model.add(layers.Dense(16, activation='relu'))\n",
    "model.add(layers.Dense(16, activation='relu'))\n",
    "model.add(layers.Dense(1, activation='sigmoid'))\n",
    "model.compile(optimizer='rmsprop', loss='binary_crossentropy', metrics=['accuracy'])\n",
    "history = model.fit(partial_x_train, partial_y_train,\n",
    "                    epochs=20, batch_size=512,\n",
    "                    validation_data=(x_val, y_val))\n",
    "plt.clf()   # clear figure\n",
    "acc_values = history.history['acc']\n",
    "val_acc_values = history.history['val_acc']\n",
    "\n",
    "plt.plot(epochs, acc, 'bo', label='Training acc')\n",
    "plt.plot(epochs, val_acc, 'b', label='Validation acc')\n",
    "plt.title('Training and validation accuracy')\n",
    "plt.xlabel('Epochs')\n",
    "plt.ylabel('Accuracy')\n",
    "plt.legend()\n",
    "\n",
    "plt.show()"
   ]
  },
  {
   "cell_type": "markdown",
   "metadata": {
    "slideshow": {
     "slide_type": "slide"
    }
   },
   "source": [
    "### Multi-class classification (topic classification)\n",
    "* Dataset: 11,000 news stories, 46 topics\n",
    "    - Included in Keras, with a 50/50 train-test split\n",
    "* Each row is one news story, with only the 10,000 most frequent words retained\n",
    "* Each word is replaced by a _word index_ (word ID)"
   ]
  },
  {
   "cell_type": "code",
   "execution_count": 14,
   "metadata": {
    "hide_input": true
   },
   "outputs": [
    {
     "name": "stdout",
     "output_type": "stream",
     "text": [
      "News wire:  ? ? ? said as a result of its december acquisition of space co it expects earnings per share in 1987 of 1 15 to 1 30 dlrs per share up from 70 cts in 1986 the company said pretax net should rise to nine to 10 mln dlrs from six mln dlrs in 1986 and rental operation revenues to 19 to 22 mln dlrs from 12 5 mln dlrs it said cash flow per share this year should be 2 50 to three dlrs reuter 3\n",
      "Encoded:  [1, 2, 2, 8, 43, 10, 447, 5, 25, 207, 270, 5, 3095, 111, 16, 369, 186, 90, 67, 7]\n",
      "Topic:  3\n"
     ]
    }
   ],
   "source": [
    "from keras.datasets import reuters\n",
    "\n",
    "(train_data, train_labels), (test_data, test_labels) = reuters.load_data(num_words=10000)\n",
    "\n",
    "word_index = reuters.get_word_index()\n",
    "reverse_word_index = dict([(value, key) for (key, value) in word_index.items()])\n",
    "# Note that our indices were offset by 3\n",
    "# because 0, 1 and 2 are reserved indices for \"padding\", \"start of sequence\", and \"unknown\".\n",
    "decoded_newswire = ' '.join([reverse_word_index.get(i - 3, '?') for i in train_data[0]])\n",
    "print(\"News wire: \",decoded_newswire)\n",
    "print(\"Encoded: \", train_data[0][0:20])\n",
    "print(\"Topic: \",train_labels[0])"
   ]
  },
  {
   "cell_type": "markdown",
   "metadata": {
    "slideshow": {
     "slide_type": "subslide"
    }
   },
   "source": [
    "#### Preparing the data\n",
    "* We have to vectorize the data again (using one-hot-encoding)\n",
    "* We have to vectorize the labels as well, also using one-hot-encoding\n",
    "    - We can use Keras' `to_categorical` again\n",
    "    - This yields a vector of 46 floats (0/1) for every sample"
   ]
  },
  {
   "cell_type": "code",
   "execution_count": 15,
   "metadata": {},
   "outputs": [],
   "source": [
    "from keras.utils.np_utils import to_categorical\n",
    "x_train = vectorize_sequences(train_data)\n",
    "x_test = vectorize_sequences(test_data)\n",
    "one_hot_train_labels = to_categorical(train_labels)\n",
    "one_hot_test_labels = to_categorical(test_labels)"
   ]
  },
  {
   "cell_type": "markdown",
   "metadata": {
    "slideshow": {
     "slide_type": "subslide"
    }
   },
   "source": [
    "#### Building the network\n",
    "* _Information bottleneck_: Every layer can `drop` some information, which can never be recovered by subsequent layers\n",
    "* 16 hidden units may be too limited to learn 46 topics, hence we use 64 in each layer\n",
    "* The output layer now needs 46 units, one for each topic\n",
    "    - We use `softmax` activation for the output to get probabilities]\n",
    "* The loss function is now `categorical_crossentropy`"
   ]
  },
  {
   "cell_type": "code",
   "execution_count": 16,
   "metadata": {},
   "outputs": [],
   "source": [
    "model = models.Sequential()\n",
    "model.add(layers.Dense(64, activation='relu', input_shape=(10000,)))\n",
    "model.add(layers.Dense(64, activation='relu'))\n",
    "model.add(layers.Dense(46, activation='softmax'))\n",
    "model.compile(optimizer='rmsprop',\n",
    "              loss='categorical_crossentropy',\n",
    "              metrics=['accuracy'])"
   ]
  },
  {
   "cell_type": "markdown",
   "metadata": {
    "slideshow": {
     "slide_type": "subslide"
    }
   },
   "source": [
    "#### Model selection\n",
    "* Take a validation set from the training set\n",
    "* Fit again with 20 epochs"
   ]
  },
  {
   "cell_type": "code",
   "execution_count": 17,
   "metadata": {},
   "outputs": [],
   "source": [
    "x_val, partial_x_train = x_train[:1000], x_train[1000:]\n",
    "y_val, partial_y_train = one_hot_train_labels[:1000], one_hot_train_labels[1000:]"
   ]
  },
  {
   "cell_type": "code",
   "execution_count": 18,
   "metadata": {},
   "outputs": [
    {
     "name": "stdout",
     "output_type": "stream",
     "text": [
      "Train on 7982 samples, validate on 1000 samples\n",
      "Epoch 1/20\n",
      "7982/7982 [==============================] - 68s 8ms/step - loss: 2.5322 - acc: 0.4955 - val_loss: 1.7208 - val_acc: 0.6120\n",
      "Epoch 2/20\n",
      "7982/7982 [==============================] - 3s 411us/step - loss: 1.4452 - acc: 0.6877 - val_loss: 1.3458 - val_acc: 0.7060\n",
      "Epoch 3/20\n",
      "7982/7982 [==============================] - 2s 209us/step - loss: 1.0953 - acc: 0.7653 - val_loss: 1.1713 - val_acc: 0.7430\n",
      "Epoch 4/20\n",
      "7982/7982 [==============================] - 1s 152us/step - loss: 0.8698 - acc: 0.8156 - val_loss: 1.0803 - val_acc: 0.7590\n",
      "Epoch 5/20\n",
      "7982/7982 [==============================] - 1s 174us/step - loss: 0.7034 - acc: 0.8479 - val_loss: 0.9843 - val_acc: 0.7820\n",
      "Epoch 6/20\n",
      "7982/7982 [==============================] - 1s 166us/step - loss: 0.5665 - acc: 0.8799 - val_loss: 0.9417 - val_acc: 0.8030\n",
      "Epoch 7/20\n",
      "7982/7982 [==============================] - 2s 203us/step - loss: 0.4580 - acc: 0.9048 - val_loss: 0.9086 - val_acc: 0.8020\n",
      "Epoch 8/20\n",
      "7982/7982 [==============================] - 1s 172us/step - loss: 0.3695 - acc: 0.9230 - val_loss: 0.9350 - val_acc: 0.7880\n",
      "Epoch 9/20\n",
      "7982/7982 [==============================] - 1s 157us/step - loss: 0.3033 - acc: 0.9315 - val_loss: 0.8913 - val_acc: 0.8070\n",
      "Epoch 10/20\n",
      "7982/7982 [==============================] - 1s 143us/step - loss: 0.2538 - acc: 0.9415 - val_loss: 0.9063 - val_acc: 0.8110\n",
      "Epoch 11/20\n",
      "7982/7982 [==============================] - 1s 150us/step - loss: 0.2184 - acc: 0.9474 - val_loss: 0.9160 - val_acc: 0.8110\n",
      "Epoch 12/20\n",
      "7982/7982 [==============================] - 1s 151us/step - loss: 0.1871 - acc: 0.9508 - val_loss: 0.9049 - val_acc: 0.8140\n",
      "Epoch 13/20\n",
      "7982/7982 [==============================] - 1s 165us/step - loss: 0.1700 - acc: 0.9525 - val_loss: 0.9329 - val_acc: 0.8090\n",
      "Epoch 14/20\n",
      "7982/7982 [==============================] - 1s 154us/step - loss: 0.1532 - acc: 0.9557 - val_loss: 0.9679 - val_acc: 0.8060\n",
      "Epoch 15/20\n",
      "7982/7982 [==============================] - 1s 167us/step - loss: 0.1389 - acc: 0.9551 - val_loss: 0.9699 - val_acc: 0.8140\n",
      "Epoch 16/20\n",
      "7982/7982 [==============================] - 1s 158us/step - loss: 0.1312 - acc: 0.9560 - val_loss: 1.0249 - val_acc: 0.8050\n",
      "Epoch 17/20\n",
      "7982/7982 [==============================] - 1s 159us/step - loss: 0.1216 - acc: 0.9580 - val_loss: 1.0243 - val_acc: 0.7960\n",
      "Epoch 18/20\n",
      "7982/7982 [==============================] - 1s 151us/step - loss: 0.1197 - acc: 0.9578 - val_loss: 1.0439 - val_acc: 0.8060\n",
      "Epoch 19/20\n",
      "7982/7982 [==============================] - 1s 181us/step - loss: 0.1135 - acc: 0.9595 - val_loss: 1.0987 - val_acc: 0.7960\n",
      "Epoch 20/20\n",
      "7982/7982 [==============================] - 1s 151us/step - loss: 0.1111 - acc: 0.9594 - val_loss: 1.0707 - val_acc: 0.8000\n"
     ]
    }
   ],
   "source": [
    "history = model.fit(partial_x_train,\n",
    "                    partial_y_train,\n",
    "                    epochs=20,\n",
    "                    batch_size=512,\n",
    "                    validation_data=(x_val, y_val))"
   ]
  },
  {
   "cell_type": "markdown",
   "metadata": {
    "slideshow": {
     "slide_type": "subslide"
    }
   },
   "source": [
    "Loss curve:"
   ]
  },
  {
   "cell_type": "code",
   "execution_count": 19,
   "metadata": {
    "hide_input": true
   },
   "outputs": [
    {
     "data": {
      "image/png": "[encoded data removed]",
      "text/plain": [
       "<Figure size 432x288 with 1 Axes>"
      ]
     },
     "metadata": {},
     "output_type": "display_data"
    }
   ],
   "source": [
    "import matplotlib.pyplot as plt\n",
    "\n",
    "loss = history.history['loss']\n",
    "val_loss = history.history['val_loss']\n",
    "\n",
    "epochs = range(1, len(loss) + 1)\n",
    "\n",
    "plt.plot(epochs, loss, 'bo', label='Training loss')\n",
    "plt.plot(epochs, val_loss, 'b', label='Validation loss')\n",
    "plt.title('Training and validation loss')\n",
    "plt.xlabel('Epochs')\n",
    "plt.ylabel('Loss')\n",
    "plt.legend()\n",
    "\n",
    "plt.show()"
   ]
  },
  {
   "cell_type": "markdown",
   "metadata": {
    "slideshow": {
     "slide_type": "subslide"
    }
   },
   "source": [
    "Accuracy curve. Overfitting starts after about 8 epochs"
   ]
  },
  {
   "cell_type": "code",
   "execution_count": 20,
   "metadata": {
    "hide_input": false
   },
   "outputs": [
    {
     "data": {
      "image/png": "[encoded data removed]",
      "text/plain": [
       "<Figure size 432x288 with 1 Axes>"
      ]
     },
     "metadata": {},
     "output_type": "display_data"
    }
   ],
   "source": [
    "plt.clf()   # clear figure\n",
    "\n",
    "acc = history.history['acc']\n",
    "val_acc = history.history['val_acc']\n",
    "\n",
    "plt.plot(epochs, acc, 'bo', label='Training acc')\n",
    "plt.plot(epochs, val_acc, 'b', label='Validation acc')\n",
    "plt.title('Training and validation accuracy')\n",
    "plt.xlabel('Epochs')\n",
    "plt.ylabel('Accuracy')\n",
    "plt.legend()\n",
    "\n",
    "plt.show()"
   ]
  },
  {
   "cell_type": "markdown",
   "metadata": {
    "slideshow": {
     "slide_type": "subslide"
    }
   },
   "source": [
    "Retrain with early stopping and validate"
   ]
  },
  {
   "cell_type": "code",
   "execution_count": 21,
   "metadata": {},
   "outputs": [
    {
     "name": "stdout",
     "output_type": "stream",
     "text": [
      "Epoch 1/8\n",
      "7982/7982 [==============================] - 1s 132us/step - loss: 0.1054 - acc: 0.9569\n",
      "Epoch 2/8\n",
      "7982/7982 [==============================] - 1s 133us/step - loss: 0.1018 - acc: 0.9580\n",
      "Epoch 3/8\n",
      "7982/7982 [==============================] - 1s 129us/step - loss: 0.1026 - acc: 0.9589\n",
      "Epoch 4/8\n",
      "7982/7982 [==============================] - 1s 162us/step - loss: 0.1029 - acc: 0.9574\n",
      "Epoch 5/8\n",
      "7982/7982 [==============================] - 1s 158us/step - loss: 0.0969 - acc: 0.9587\n",
      "Epoch 6/8\n",
      "7982/7982 [==============================] - 1s 140us/step - loss: 0.0987 - acc: 0.9563\n",
      "Epoch 7/8\n",
      "7982/7982 [==============================] - 1s 131us/step - loss: 0.0958 - acc: 0.9575\n",
      "Epoch 8/8\n",
      "7982/7982 [==============================] - 1s 134us/step - loss: 0.0920 - acc: 0.9585\n",
      "2246/2246 [==============================] - 0s 196us/step\n",
      "Loss: 1.3821, Accuracy: 0.7640\n"
     ]
    }
   ],
   "source": [
    "model.fit(partial_x_train, partial_y_train, epochs=8, batch_size=512)\n",
    "result = model.evaluate(x_test, one_hot_test_labels)\n",
    "print(\"Loss: {:.4f}, Accuracy: {:.4f}\".format(*result))"
   ]
  },
  {
   "cell_type": "markdown",
   "metadata": {
    "slideshow": {
     "slide_type": "subslide"
    }
   },
   "source": [
    "#### Information bottleneck\n",
    "* What happens if we create an information bottleneck on purpose\n",
    "    - Use only 4 hidden units in the second layer\n",
    "* Accuracy drops dramatically!\n",
    "* We are trying to learn 64 separating hyperplanes from a 4-dimensional representation\n",
    "    - It manages to save a lot of information, but also loses a lot"
   ]
  },
  {
   "cell_type": "code",
   "execution_count": 22,
   "metadata": {
    "slideshow": {
     "slide_type": "subslide"
    }
   },
   "outputs": [
    {
     "name": "stdout",
     "output_type": "stream",
     "text": [
      "Train on 7982 samples, validate on 1000 samples\n",
      "Epoch 1/20\n",
      "7982/7982 [==============================] - 3s 336us/step - loss: 2.4695 - acc: 0.5199 - val_loss: 1.7777 - val_acc: 0.5980\n",
      "Epoch 2/20\n",
      "7982/7982 [==============================] - 2s 206us/step - loss: 1.5149 - acc: 0.6124 - val_loss: 1.4549 - val_acc: 0.6210\n",
      "Epoch 3/20\n",
      "7982/7982 [==============================] - 2s 196us/step - loss: 1.2249 - acc: 0.6738 - val_loss: 1.3334 - val_acc: 0.6820\n",
      "Epoch 4/20\n",
      "7982/7982 [==============================] - 2s 189us/step - loss: 1.0568 - acc: 0.7453 - val_loss: 1.2732 - val_acc: 0.7100\n",
      "Epoch 5/20\n",
      "7982/7982 [==============================] - 2s 203us/step - loss: 0.9427 - acc: 0.7612 - val_loss: 1.2580 - val_acc: 0.7210\n",
      "Epoch 6/20\n",
      "7982/7982 [==============================] - 2s 192us/step - loss: 0.8541 - acc: 0.7813 - val_loss: 1.2851 - val_acc: 0.7090\n",
      "Epoch 7/20\n",
      "7982/7982 [==============================] - 2s 201us/step - loss: 0.7832 - acc: 0.8007 - val_loss: 1.2925 - val_acc: 0.7290\n",
      "Epoch 8/20\n",
      "7982/7982 [==============================] - 2s 204us/step - loss: 0.7241 - acc: 0.8156 - val_loss: 1.3219 - val_acc: 0.7290\n",
      "Epoch 9/20\n",
      "7982/7982 [==============================] - 2s 190us/step - loss: 0.6716 - acc: 0.8309 - val_loss: 1.3542 - val_acc: 0.7300\n",
      "Epoch 10/20\n",
      "7982/7982 [==============================] - 2s 205us/step - loss: 0.6271 - acc: 0.8366 - val_loss: 1.4113 - val_acc: 0.7250\n",
      "Epoch 11/20\n",
      "7982/7982 [==============================] - 2s 232us/step - loss: 0.5890 - acc: 0.8429 - val_loss: 1.4427 - val_acc: 0.7290\n",
      "Epoch 12/20\n",
      "7982/7982 [==============================] - 2s 230us/step - loss: 0.5586 - acc: 0.8464 - val_loss: 1.4668 - val_acc: 0.7290\n",
      "Epoch 13/20\n",
      "7982/7982 [==============================] - 1s 186us/step - loss: 0.5307 - acc: 0.8483 - val_loss: 1.5093 - val_acc: 0.7220\n",
      "Epoch 14/20\n",
      "7982/7982 [==============================] - 2s 245us/step - loss: 0.5056 - acc: 0.8540 - val_loss: 1.5416 - val_acc: 0.7220\n",
      "Epoch 15/20\n",
      "7982/7982 [==============================] - 2s 220us/step - loss: 0.4846 - acc: 0.8602 - val_loss: 1.5974 - val_acc: 0.7190\n",
      "Epoch 16/20\n",
      "7982/7982 [==============================] - 1s 187us/step - loss: 0.4651 - acc: 0.8608 - val_loss: 1.5933 - val_acc: 0.7230\n",
      "Epoch 17/20\n",
      "7982/7982 [==============================] - 1s 183us/step - loss: 0.4492 - acc: 0.8641 - val_loss: 1.6393 - val_acc: 0.7160\n",
      "Epoch 18/20\n",
      "7982/7982 [==============================] - 2s 198us/step - loss: 0.4327 - acc: 0.8687 - val_loss: 1.7431 - val_acc: 0.7140\n",
      "Epoch 19/20\n",
      "7982/7982 [==============================] - 1s 177us/step - loss: 0.4171 - acc: 0.8703 - val_loss: 1.7400 - val_acc: 0.7130\n",
      "Epoch 20/20\n",
      "7982/7982 [==============================] - 2s 211us/step - loss: 0.4061 - acc: 0.8779 - val_loss: 1.8052 - val_acc: 0.7140\n"
     ]
    },
    {
     "data": {
      "text/plain": [
       "<keras.callbacks.History at 0x1c39100ef0>"
      ]
     },
     "execution_count": 22,
     "metadata": {},
     "output_type": "execute_result"
    }
   ],
   "source": [
    "model = models.Sequential()\n",
    "model.add(layers.Dense(64, activation='relu', input_shape=(10000,)))\n",
    "model.add(layers.Dense(4, activation='relu'))\n",
    "model.add(layers.Dense(46, activation='softmax'))\n",
    "\n",
    "model.compile(optimizer='rmsprop',\n",
    "              loss='categorical_crossentropy',\n",
    "              metrics=['accuracy'])\n",
    "model.fit(partial_x_train,\n",
    "          partial_y_train,\n",
    "          epochs=20,\n",
    "          batch_size=128, verbose=0,\n",
    "          validation_data=(x_val, y_val))"
   ]
  },
  {
   "cell_type": "markdown",
   "metadata": {
    "slideshow": {
     "slide_type": "subslide"
    }
   },
   "source": [
    "#### Takeaways\n",
    "* For a problem with $C$ classes, the final Dense layer needs $C$ units\n",
    "* Use `softmax` activation and `categorical_crossentropy` loss\n",
    "* Information bottleneck: when classifying many classes, the hidden layers should be large enough\n",
    "* Many design choices have an effect on accuracy and overfitting. Try:\n",
    "    - 1 or 3 hidden layers\n",
    "    - more or fewer hidden units (e.g. 128)"
   ]
  },
  {
   "cell_type": "markdown",
   "metadata": {
    "slideshow": {
     "slide_type": "subslide"
    }
   },
   "source": [
    "### Regression\n",
    "* Dataset: 506 examples of houses and sale prices (Boston)\n",
    "    - Included in Keras, with a 1/5 train-test split\n",
    "* Each row is one house price, described by numeric properties of the house and neighborhood\n",
    "* Small dataset, non-normalized features"
   ]
  },
  {
   "cell_type": "code",
   "execution_count": 23,
   "metadata": {},
   "outputs": [],
   "source": [
    "from keras.datasets import boston_housing\n",
    "\n",
    "(train_data, train_targets), (test_data, test_targets) =  boston_housing.load_data()"
   ]
  },
  {
   "cell_type": "markdown",
   "metadata": {
    "slideshow": {
     "slide_type": "subslide"
    }
   },
   "source": [
    "#### Preprocessing\n",
    "* Neural nets work a lot better if we normalize the features first. \n",
    "* Keras has no built-in support so we have to do this manually (or with scikit-learn)\n",
    "    - Again, be careful not to look at the test data during normalization"
   ]
  },
  {
   "cell_type": "code",
   "execution_count": 24,
   "metadata": {},
   "outputs": [],
   "source": [
    "mean, std = train_data.mean(axis=0), train_data.std(axis=0)\n",
    "train_data -= mean\n",
    "train_data /= std\n",
    "\n",
    "test_data -= mean\n",
    "test_data /= std"
   ]
  },
  {
   "cell_type": "markdown",
   "metadata": {
    "slideshow": {
     "slide_type": "subslide"
    }
   },
   "source": [
    "#### Building the network\n",
    "* This is a small dataset, so easy to overfit\n",
    "    * We use 2 hidden layers of 64 units each\n",
    "* Use smaller batches, more epochs\n",
    "* Since we want scalar output, the output layer is one unit without activation\n",
    "* Loss function is Mean Squared Error (bigger penalty)\n",
    "* Evaluation metric is Mean Abolute Error (more interpretable)\n",
    "* We will also use cross-validation, so we wrap the model building in a function, so that we can call it multiple times"
   ]
  },
  {
   "cell_type": "code",
   "execution_count": 25,
   "metadata": {},
   "outputs": [],
   "source": [
    "def build_model():\n",
    "    model = models.Sequential()\n",
    "    model.add(layers.Dense(64, activation='relu',\n",
    "                           input_shape=(train_data.shape[1],)))\n",
    "    model.add(layers.Dense(64, activation='relu'))\n",
    "    model.add(layers.Dense(1))\n",
    "    model.compile(optimizer='rmsprop', loss='mse', metrics=['mae'])\n",
    "    return model"
   ]
  },
  {
   "cell_type": "markdown",
   "metadata": {
    "slideshow": {
     "slide_type": "subslide"
    }
   },
   "source": [
    "#### Cross-validation\n",
    "* Keras does not have support for cross-validation\n",
    "* Luckily we can wrap a Keras model as a scikit-learn estimate\n",
    "* We can also implement cross-validation ourselves \n",
    "* Generally speaking, cross-validation is tricky with neural nets\n",
    "    * Some fold may not converge, or fluctuate on random initialization"
   ]
  },
  {
   "cell_type": "code",
   "execution_count": 42,
   "metadata": {
    "slideshow": {
     "slide_type": "subslide"
    }
   },
   "outputs": [
    {
     "name": "stdout",
     "output_type": "stream",
     "text": [
      "MAE:  15.936386138613859\n"
     ]
    }
   ],
   "source": [
    "# TODO: Check why MAE is different. Should actually use a pipeline\n",
    "from sklearn.model_selection import cross_val_score\n",
    "clf = KerasClassifier(build_model)\n",
    "X = np.concatenate([train_data,test_data],axis=0)\n",
    "y = np.concatenate([train_targets,test_targets],axis=0)\n",
    "score = cross_val_score(clf, train_data, train_targets, scoring='neg_mean_absolute_error', cv=4,\n",
    "                        fit_params={'epochs': 100, 'batch_size':1, 'verbose':0});\n",
    "print(\"MAE: \", -np.mean(score))"
   ]
  },
  {
   "cell_type": "code",
   "execution_count": 34,
   "metadata": {},
   "outputs": [
    {
     "name": "stdout",
     "output_type": "stream",
     "text": [
      "processing fold # 0\n",
      "processing fold # 1\n",
      "processing fold # 2\n",
      "processing fold # 3\n"
     ]
    }
   ],
   "source": [
    "import numpy as np\n",
    "\n",
    "k = 4\n",
    "num_val_samples = len(train_data) // k\n",
    "num_epochs = 100\n",
    "all_scores = []\n",
    "for i in range(k):\n",
    "    print('processing fold #', i)\n",
    "    # Prepare the validation data: data from partition # k\n",
    "    val_data = train_data[i * num_val_samples: (i + 1) * num_val_samples]\n",
    "    val_targets = train_targets[i * num_val_samples: (i + 1) * num_val_samples]\n",
    "\n",
    "    # Prepare the training data: data from all other partitions\n",
    "    partial_train_data = np.concatenate(\n",
    "        [train_data[:i * num_val_samples],\n",
    "         train_data[(i + 1) * num_val_samples:]],\n",
    "        axis=0)\n",
    "    partial_train_targets = np.concatenate(\n",
    "        [train_targets[:i * num_val_samples],\n",
    "         train_targets[(i + 1) * num_val_samples:]],\n",
    "        axis=0)\n",
    "\n",
    "    # Build the Keras model (already compiled)\n",
    "    model = build_model()\n",
    "    # Train the model (in silent mode, verbose=0)\n",
    "    model.fit(partial_train_data, partial_train_targets,\n",
    "              epochs=num_epochs, batch_size=1, verbose=0)\n",
    "    # Evaluate the model on the validation data\n",
    "    val_mse, val_mae = model.evaluate(val_data, val_targets, verbose=0)\n",
    "    all_scores.append(val_mae)"
   ]
  },
  {
   "cell_type": "code",
   "execution_count": 41,
   "metadata": {},
   "outputs": [
    {
     "name": "stdout",
     "output_type": "stream",
     "text": [
      "MAE:  2.4963379927200844\n"
     ]
    }
   ],
   "source": [
    "print(\"MAE: \", np.mean(all_scores))"
   ]
  },
  {
   "cell_type": "markdown",
   "metadata": {
    "slideshow": {
     "slide_type": "subslide"
    }
   },
   "source": [
    "Train for longer and keep track of loss after every epoch"
   ]
  },
  {
   "cell_type": "code",
   "execution_count": 43,
   "metadata": {},
   "outputs": [
    {
     "name": "stdout",
     "output_type": "stream",
     "text": [
      "processing fold # 0\n",
      "processing fold # 1\n",
      "processing fold # 2\n",
      "processing fold # 3\n"
     ]
    }
   ],
   "source": [
    "from keras import backend as K\n",
    "K.clear_session() # Memory clean-up\n",
    "\n",
    "num_epochs = 500\n",
    "all_mae_histories = []\n",
    "for i in range(k):\n",
    "    print('processing fold #', i)\n",
    "    # Prepare the validation data: data from partition # k\n",
    "    val_data = train_data[i * num_val_samples: (i + 1) * num_val_samples]\n",
    "    val_targets = train_targets[i * num_val_samples: (i + 1) * num_val_samples]\n",
    "\n",
    "    # Prepare the training data: data from all other partitions\n",
    "    partial_train_data = np.concatenate(\n",
    "        [train_data[:i * num_val_samples],\n",
    "         train_data[(i + 1) * num_val_samples:]],\n",
    "        axis=0)\n",
    "    partial_train_targets = np.concatenate(\n",
    "        [train_targets[:i * num_val_samples],\n",
    "         train_targets[(i + 1) * num_val_samples:]],\n",
    "        axis=0)\n",
    "\n",
    "    # Build the Keras model (already compiled)\n",
    "    model = build_model()\n",
    "    # Train the model (in silent mode, verbose=0)\n",
    "    history = model.fit(partial_train_data, partial_train_targets,\n",
    "                        validation_data=(val_data, val_targets),\n",
    "                        epochs=num_epochs, batch_size=1, verbose=0)\n",
    "    mae_history = history.history['val_mean_absolute_error']\n",
    "    all_mae_histories.append(mae_history)"
   ]
  },
  {
   "cell_type": "markdown",
   "metadata": {
    "slideshow": {
     "slide_type": "subslide"
    }
   },
   "source": [
    "The model starts overfitting from epoch 80"
   ]
  },
  {
   "cell_type": "code",
   "execution_count": 44,
   "metadata": {},
   "outputs": [
    {
     "data": {
      "image/png": "[encoded data removed]",
      "text/plain": [
       "<Figure size 432x288 with 1 Axes>"
      ]
     },
     "metadata": {},
     "output_type": "display_data"
    }
   ],
   "source": [
    "average_mae_history = [\n",
    "    np.mean([x[i] for x in all_mae_histories]) for i in range(num_epochs)]\n",
    "plt.plot(range(1, len(average_mae_history) + 1), average_mae_history)\n",
    "plt.xlabel('Epochs')\n",
    "plt.ylabel('Validation MAE')\n",
    "plt.show()"
   ]
  },
  {
   "cell_type": "markdown",
   "metadata": {
    "slideshow": {
     "slide_type": "subslide"
    }
   },
   "source": [
    "Retrain with optimized number of epochs"
   ]
  },
  {
   "cell_type": "code",
   "execution_count": 46,
   "metadata": {},
   "outputs": [
    {
     "name": "stdout",
     "output_type": "stream",
     "text": [
      "102/102 [==============================] - 0s 640us/step\n",
      "MAE:  2.825951931523342\n"
     ]
    }
   ],
   "source": [
    "# Get a fresh, compiled model.\n",
    "model = build_model()\n",
    "# Train it on the entirety of the data.\n",
    "model.fit(train_data, train_targets,\n",
    "          epochs=80, batch_size=16, verbose=0)\n",
    "test_mse_score, test_mae_score = model.evaluate(test_data, test_targets)\n",
    "print(\"MAE: \", test_mae_score)"
   ]
  },
  {
   "cell_type": "markdown",
   "metadata": {
    "slideshow": {
     "slide_type": "subslide"
    }
   },
   "source": [
    "#### Takeaways\n",
    "* Regression is usually done using MSE loss and MAE for evaluation\n",
    "* Input data should always be scaled (independent from the test set)\n",
    "* Small datasets:\n",
    "    - Use cross-validation\n",
    "    - Use simple (non-deep) networks\n",
    "    - Smaller batches, more epochs"
   ]
  },
  {
   "cell_type": "markdown",
   "metadata": {
    "slideshow": {
     "slide_type": "subslide"
    }
   },
   "source": [
    "### Regularization: build smaller networks\n",
    "* The easiest way to avoid overfitting is to use a simpler model\n",
    "* The number of learnable parameters is called the model _capacity_\n",
    "* A model with more parameters has a higher _memorization capacity_\n",
    "    - The entire training set can be `stored` in the weights\n",
    "    - Learns the mapping from training examples to outputs\n",
    "* Forcing the model to be small forces it to learn a compressed representation that generalizes better\n",
    "    - Always a trade-off between too much and too little capacity\n",
    "* Start with few layers and parameters, incease until you see diminisching returns"
   ]
  },
  {
   "cell_type": "markdown",
   "metadata": {
    "slideshow": {
     "slide_type": "subslide"
    }
   },
   "source": [
    "Let's try this on our movie review data, with 4 units per layer"
   ]
  },
  {
   "cell_type": "code",
   "execution_count": 47,
   "metadata": {
    "slideshow": {
     "slide_type": "skip"
    }
   },
   "outputs": [],
   "source": [
    "from keras.datasets import imdb\n",
    "import numpy as np\n",
    "\n",
    "(train_data, train_labels), (test_data, test_labels) = imdb.load_data(num_words=10000)\n",
    "\n",
    "def vectorize_sequences(sequences, dimension=10000):\n",
    "    # Create an all-zero matrix of shape (len(sequences), dimension)\n",
    "    results = np.zeros((len(sequences), dimension))\n",
    "    for i, sequence in enumerate(sequences):\n",
    "        results[i, sequence] = 1.  # set specific indices of results[i] to 1s\n",
    "    return results\n",
    "\n",
    "# Our vectorized training data\n",
    "x_train = vectorize_sequences(train_data)\n",
    "# Our vectorized test data\n",
    "x_test = vectorize_sequences(test_data)\n",
    "# Our vectorized labels\n",
    "y_train = np.asarray(train_labels).astype('float32')\n",
    "y_test = np.asarray(test_labels).astype('float32')"
   ]
  },
  {
   "cell_type": "code",
   "execution_count": 49,
   "metadata": {
    "slideshow": {
     "slide_type": "-"
    }
   },
   "outputs": [],
   "source": [
    "original_model = models.Sequential()\n",
    "original_model.add(layers.Dense(16, activation='relu', input_shape=(10000,)))\n",
    "original_model.add(layers.Dense(16, activation='relu'))\n",
    "original_model.add(layers.Dense(1, activation='sigmoid'))\n",
    "\n",
    "original_model.compile(optimizer='rmsprop',\n",
    "                       loss='binary_crossentropy',\n",
    "                       metrics=['acc'])\n",
    "\n",
    "smaller_model = models.Sequential()\n",
    "smaller_model.add(layers.Dense(4, activation='relu', input_shape=(10000,)))\n",
    "smaller_model.add(layers.Dense(4, activation='relu'))\n",
    "smaller_model.add(layers.Dense(1, activation='sigmoid'))\n",
    "\n",
    "smaller_model.compile(optimizer='rmsprop',\n",
    "                      loss='binary_crossentropy',\n",
    "                      metrics=['acc'])\n",
    "original_hist = original_model.fit(x_train, y_train,\n",
    "                                   epochs=20,\n",
    "                                   batch_size=512, verbose=0,\n",
    "                                   validation_data=(x_test, y_test))\n",
    "smaller_model_hist = smaller_model.fit(x_train, y_train,\n",
    "                                       epochs=20,\n",
    "                                       batch_size=512, verbose=0,\n",
    "                                       validation_data=(x_test, y_test))"
   ]
  },
  {
   "cell_type": "markdown",
   "metadata": {
    "slideshow": {
     "slide_type": "subslide"
    }
   },
   "source": [
    "The smaller model starts overfitting later than the original one, and it overfits more _slowly_"
   ]
  },
  {
   "cell_type": "code",
   "execution_count": 50,
   "metadata": {
    "slideshow": {
     "slide_type": "skip"
    }
   },
   "outputs": [],
   "source": [
    "epochs = range(1, 21)\n",
    "original_val_loss = original_hist.history['val_loss']\n",
    "smaller_model_val_loss = smaller_model_hist.history['val_loss']"
   ]
  },
  {
   "cell_type": "code",
   "execution_count": 51,
   "metadata": {
    "slideshow": {
     "slide_type": "skip"
    }
   },
   "outputs": [
    {
     "data": {
      "image/png": "[encoded data removed]",
      "text/plain": [
       "<Figure size 432x288 with 1 Axes>"
      ]
     },
     "metadata": {},
     "output_type": "display_data"
    }
   ],
   "source": [
    "plt.plot(epochs, original_val_loss, 'b+', label='Original model')\n",
    "plt.plot(epochs, smaller_model_val_loss, 'bo', label='Smaller model')\n",
    "plt.xlabel('Epochs')\n",
    "plt.ylabel('Validation loss')\n",
    "plt.legend()\n",
    "\n",
    "plt.show()"
   ]
  },
  {
   "cell_type": "markdown",
   "metadata": {
    "slideshow": {
     "slide_type": "subslide"
    }
   },
   "source": [
    "### Regularization: Weight regularization\n",
    "* As we did many times before, we can also add weight regularization to our loss function\n",
    "- L1 regularization: leads to _sparse networks_ with many weights that are 0\n",
    "- L2 regularization: leads to many very small weights\n",
    "    - Also called _weight decay_ in neural net literature\n",
    "* In Keras, add `kernel_regularizer` to every layer"
   ]
  },
  {
   "cell_type": "code",
   "execution_count": 52,
   "metadata": {},
   "outputs": [],
   "source": [
    "from keras import regularizers\n",
    "\n",
    "l2_model = models.Sequential()\n",
    "l2_model.add(layers.Dense(16, kernel_regularizer=regularizers.l2(0.001),\n",
    "                          activation='relu', input_shape=(10000,)))\n",
    "l2_model.add(layers.Dense(16, kernel_regularizer=regularizers.l2(0.001),\n",
    "                          activation='relu'))\n",
    "l2_model.add(layers.Dense(1, activation='sigmoid'))"
   ]
  },
  {
   "cell_type": "code",
   "execution_count": 53,
   "metadata": {
    "slideshow": {
     "slide_type": "skip"
    }
   },
   "outputs": [],
   "source": [
    "l2_model.compile(optimizer='rmsprop',\n",
    "                 loss='binary_crossentropy',\n",
    "                 metrics=['acc'])"
   ]
  },
  {
   "cell_type": "code",
   "execution_count": 54,
   "metadata": {
    "slideshow": {
     "slide_type": "skip"
    }
   },
   "outputs": [],
   "source": [
    "l2_model_hist = l2_model.fit(x_train, y_train,\n",
    "                             epochs=20,\n",
    "                             batch_size=512, verbose=0,\n",
    "                             validation_data=(x_test, y_test))"
   ]
  },
  {
   "cell_type": "markdown",
   "metadata": {},
   "source": [
    "L2 regularized model is much more resistant to overfitting, even though both have the same number of parameters"
   ]
  },
  {
   "cell_type": "code",
   "execution_count": 55,
   "metadata": {
    "slideshow": {
     "slide_type": "skip"
    }
   },
   "outputs": [
    {
     "data": {
      "image/png": "[encoded data removed]",
      "text/plain": [
       "<Figure size 432x288 with 1 Axes>"
      ]
     },
     "metadata": {},
     "output_type": "display_data"
    }
   ],
   "source": [
    "l2_model_val_loss = l2_model_hist.history['val_loss']\n",
    "\n",
    "plt.plot(epochs, original_val_loss, 'b+', label='Original model')\n",
    "plt.plot(epochs, l2_model_val_loss, 'bo', label='L2-regularized model')\n",
    "plt.xlabel('Epochs')\n",
    "plt.ylabel('Validation loss')\n",
    "plt.legend()\n",
    "\n",
    "plt.show()"
   ]
  },
  {
   "cell_type": "markdown",
   "metadata": {
    "slideshow": {
     "slide_type": "subslide"
    }
   },
   "source": [
    "You can also try L1 loss or both at the same time\n",
    "``` python\n",
    "from keras import regularizers\n",
    "\n",
    "# L1 regularization\n",
    "regularizers.l1(0.001)\n",
    "\n",
    "# L1 and L2 regularization at the same time\n",
    "regularizers.l1_l2(l1=0.001, l2=0.001)\n",
    "```"
   ]
  },
  {
   "cell_type": "markdown",
   "metadata": {
    "slideshow": {
     "slide_type": "subslide"
    }
   },
   "source": [
    "### Regularization: dropout\n",
    "* One of the most effective and commonly used regularization techniques\n",
    "* Breakes up accidental non-significant learned patterns \n",
    "* Randomly set a number of outputs of the layer to 0\n",
    "* _Dropout rate_: fraction of the outputs that are zeroed-out\n",
    "    - Usually between 0.2 and 0.5\n",
    "* Nothing is dropped out at test time, but the output values are scaled down by the dropout rate\n",
    "    - Balances out that more units are active than during training\n",
    "* In Keras: add `Dropout` layers between the normal layers"
   ]
  },
  {
   "cell_type": "code",
   "execution_count": 56,
   "metadata": {
    "slideshow": {
     "slide_type": "subslide"
    }
   },
   "outputs": [],
   "source": [
    "dpt_model = models.Sequential()\n",
    "dpt_model.add(layers.Dense(16, activation='relu', input_shape=(10000,)))\n",
    "dpt_model.add(layers.Dropout(0.5))\n",
    "dpt_model.add(layers.Dense(16, activation='relu'))\n",
    "dpt_model.add(layers.Dropout(0.5))\n",
    "dpt_model.add(layers.Dense(1, activation='sigmoid'))\n",
    "\n",
    "dpt_model.compile(optimizer='rmsprop',\n",
    "                  loss='binary_crossentropy',\n",
    "                  metrics=['acc'])"
   ]
  },
  {
   "cell_type": "code",
   "execution_count": 57,
   "metadata": {
    "slideshow": {
     "slide_type": "skip"
    }
   },
   "outputs": [],
   "source": [
    "dpt_model_hist = dpt_model.fit(x_train, y_train,\n",
    "                               epochs=20,\n",
    "                               batch_size=512, verbose=0,\n",
    "                               validation_data=(x_test, y_test))"
   ]
  },
  {
   "cell_type": "code",
   "execution_count": 58,
   "metadata": {
    "slideshow": {
     "slide_type": "skip"
    }
   },
   "outputs": [
    {
     "data": {
      "image/png": "[encoded data removed]",
      "text/plain": [
       "<Figure size 432x288 with 1 Axes>"
      ]
     },
     "metadata": {},
     "output_type": "display_data"
    }
   ],
   "source": [
    "dpt_model_val_loss = dpt_model_hist.history['val_loss']\n",
    "\n",
    "plt.plot(epochs, original_val_loss, 'b+', label='Original model')\n",
    "plt.plot(epochs, dpt_model_val_loss, 'bo', label='Dropout-regularized model')\n",
    "plt.xlabel('Epochs')\n",
    "plt.ylabel('Validation loss')\n",
    "plt.legend()\n",
    "\n",
    "plt.show()"
   ]
  },
  {
   "cell_type": "markdown",
   "metadata": {
    "slideshow": {
     "slide_type": "subslide"
    }
   },
   "source": [
    "### Regularization recap\n",
    "* Get more training data\n",
    "* Reduce the capacity of the network\n",
    "* Add weight regularization\n",
    "* Add dropout\n",
    "* Either start with a simple model and add capacity\n",
    "* Or, start with a complex model and then regularize by adding weight regularization and dropout"
   ]
  },
  {
   "cell_type": "code",
   "execution_count": null,
   "metadata": {},
   "outputs": [],
   "source": []
  }
 ],
 "metadata": {
  "anaconda-cloud": {},
  "celltoolbar": "Slideshow",
  "kernelspec": {
   "display_name": "Python 3",
   "language": "python",
   "name": "python3"
  },
  "language_info": {
   "codemirror_mode": {
    "name": "ipython",
    "version": 3
   },
   "file_extension": ".py",
   "mimetype": "text/x-python",
   "name": "python",
   "nbconvert_exporter": "python",
   "pygments_lexer": "ipython3",
   "version": "3.6.4"
  }
 },
 "nbformat": 4,
 "nbformat_minor": 1
}
