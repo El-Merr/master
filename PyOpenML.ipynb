{
 "cells": [
  {
   "cell_type": "markdown",
   "metadata": {
    "nbpresent": {
     "id": "365ab75b-fb74-4fc0-9efb-ea51b2c208e6"
    },
    "slideshow": {
     "slide_type": "slide"
    }
   },
   "source": [
    "# OpenML in Python \n",
    "OpenML is an online collaboration platform for machine learning: \n",
    "\n",
    "* Find or share interesting, well-documented datasets\n",
    "* Define research / modelling goals (tasks)\n",
    "* Explore large amounts of machine learning algorithms, with APIs in Java, R, Python\n",
    "* Log and share reproducible experiments, models, results \n",
    "* Works seamlessly with scikit-learn and other libraries\n",
    "* Large scale benchmarking, compare to state of the art"
   ]
  },
  {
   "cell_type": "raw",
   "metadata": {
    "collapsed": true
   },
   "source": [
    "# Install OpenML (developer version)\n",
    "# 'pip install openml' coming up (october 2017)\n",
    "pip install git+https://github.com/renatopp/liac-arff@master    \n",
    "pip install git+https://github.com/openml/openml-python.git@develop"
   ]
  },
  {
   "cell_type": "markdown",
   "metadata": {
    "nbpresent": {
     "id": "22990c96-6359-4864-bfc4-eb4c3c5a1ec1"
    },
    "slideshow": {
     "slide_type": "slide"
    }
   },
   "source": [
    "## Authentication\n",
    "\n",
    "* Create an OpenML account (free) on http://www.openml.org. \n",
    "* After logging in, open your account page (avatar on the top right)\n",
    "* Open 'Account Settings', then 'API authentication' to find your API key.\n",
    "\n",
    "There are two ways to authenticate:  \n",
    "\n",
    "* Create a plain text file `~/.openml/config` with the line 'apikey=MYKEY', replacing MYKEY with your API key.\n",
    "* Run the code below, replacing 'YOURKEY' with your API key."
   ]
  },
  {
   "cell_type": "code",
   "execution_count": 53,
   "metadata": {
    "collapsed": true
   },
   "outputs": [],
   "source": [
    "# Set your OpenML key. Don't share your key with others.\n",
    "import openml as oml\n",
    "oml.config.apikey = 'YOURKEY'"
   ]
  },
  {
   "cell_type": "code",
   "execution_count": 54,
   "metadata": {
    "collapsed": false,
    "hide_input": true,
    "slideshow": {
     "slide_type": "skip"
    }
   },
   "outputs": [
    {
     "ename": "ImportError",
     "evalue": "No module named 'preamble'",
     "output_type": "error",
     "traceback": [
      "\u001b[0;31m---------------------------------------------------------------------------\u001b[0m",
      "\u001b[0;31mImportError\u001b[0m                               Traceback (most recent call last)",
      "\u001b[0;32m<ipython-input-54-6ccf8de5c582>\u001b[0m in \u001b[0;36m<module>\u001b[0;34m()\u001b[0m\n\u001b[1;32m      2\u001b[0m \u001b[0;34m\u001b[0m\u001b[0m\n\u001b[1;32m      3\u001b[0m \u001b[0;31m# General imports and settings\u001b[0m\u001b[0;34m\u001b[0m\u001b[0;34m\u001b[0m\u001b[0m\n\u001b[0;32m----> 4\u001b[0;31m \u001b[0;32mfrom\u001b[0m \u001b[0mpreamble\u001b[0m \u001b[0;32mimport\u001b[0m \u001b[0;34m*\u001b[0m\u001b[0;34m\u001b[0m\u001b[0m\n\u001b[0m\u001b[1;32m      5\u001b[0m \u001b[0mget_ipython\u001b[0m\u001b[0;34m(\u001b[0m\u001b[0;34m)\u001b[0m\u001b[0;34m.\u001b[0m\u001b[0mmagic\u001b[0m\u001b[0;34m(\u001b[0m\u001b[0;34m'matplotlib inline'\u001b[0m\u001b[0;34m)\u001b[0m\u001b[0;34m\u001b[0m\u001b[0m\n\u001b[1;32m      6\u001b[0m \u001b[0mInteractiveShell\u001b[0m\u001b[0;34m.\u001b[0m\u001b[0mast_node_interactivity\u001b[0m \u001b[0;34m=\u001b[0m \u001b[0;34m\"all\"\u001b[0m\u001b[0;34m\u001b[0m\u001b[0m\n",
      "\u001b[0;31mImportError\u001b[0m: No module named 'preamble'"
     ]
    }
   ],
   "source": [
    "# YOU CAN SKIP THIS\n",
    "\n",
    "# General imports and settings\n",
    "from preamble import *\n",
    "%matplotlib inline\n",
    "InteractiveShell.ast_node_interactivity = \"all\"\n",
    "HTML('''<style>html, body{overflow: visible !important} .CodeMirror{min-width:105% !important;} .rise-enabled .CodeMirror, .rise-enabled .output_subarea{font-size:140%; line-height:1.2; overflow: visible;} .output_subarea pre{width:110%}</style>''') # For slides"
   ]
  },
  {
   "cell_type": "markdown",
   "metadata": {
    "nbpresent": {
     "id": "e4f0afda-8f78-4162-b196-b12399a65a5a"
    },
    "slideshow": {
     "slide_type": "slide"
    }
   },
   "source": [
    "# It all starts with data\n",
    "Explore thousands of datasets, or share your own"
   ]
  },
  {
   "cell_type": "markdown",
   "metadata": {
    "slideshow": {
     "slide_type": "subslide"
    }
   },
   "source": [
    "### List datasets"
   ]
  },
  {
   "cell_type": "code",
   "execution_count": null,
   "metadata": {
    "collapsed": false,
    "nbpresent": {
     "id": "1f22460f-b6da-4e90-9437-336b84527224"
    }
   },
   "outputs": [],
   "source": [
    "import openml as oml\n",
    "openml_list = oml.datasets.list_datasets() # Returns a dict\n",
    "\n",
    "# Show a nice table with some key data properties\n",
    "import pandas as pd\n",
    "datalist = pd.DataFrame.from_dict(openml_list, orient='index') \n",
    "datalist = datalist[['did','name','NumberOfInstances',\n",
    "               'NumberOfFeatures','NumberOfClasses']]\n",
    "print(\"First 10 of %s datasets...\" % len(datalist))\n",
    "datalist[:10]"
   ]
  },
  {
   "cell_type": "markdown",
   "metadata": {
    "slideshow": {
     "slide_type": "subslide"
    }
   },
   "source": [
    "### Exercise\n",
    "- Find datasets with more than 10000 examples\n",
    "- Find a dataset called 'eeg_eye_state'\n",
    "- Find all datasets with more than 50 classes"
   ]
  },
  {
   "cell_type": "code",
   "execution_count": null,
   "metadata": {
    "collapsed": false,
    "nbpresent": {
     "id": "7429ccf1-fe43-49e9-8239-54601a7f974d"
    }
   },
   "outputs": [],
   "source": [
    "datalist[datalist.NumberOfInstances>10000\n",
    "        ].sort(['NumberOfInstances'])[:20]"
   ]
  },
  {
   "cell_type": "code",
   "execution_count": null,
   "metadata": {
    "collapsed": false
   },
   "outputs": [],
   "source": [
    "datalist.query('name == \"eeg-eye-state\"')"
   ]
  },
  {
   "cell_type": "code",
   "execution_count": null,
   "metadata": {
    "collapsed": false
   },
   "outputs": [],
   "source": [
    "datalist.query('NumberOfClasses > 50')"
   ]
  },
  {
   "cell_type": "markdown",
   "metadata": {
    "nbpresent": {
     "id": "7b58c1f7-3484-4e26-b6b5-67ed6f99b9e9"
    },
    "slideshow": {
     "slide_type": "subslide"
    }
   },
   "source": [
    "## Download datasets\n",
    "This is done based on the dataset ID ('did')."
   ]
  },
  {
   "cell_type": "code",
   "execution_count": null,
   "metadata": {
    "collapsed": false,
    "nbpresent": {
     "id": "d377efff-2484-4ac3-8706-6434644949fd"
    }
   },
   "outputs": [],
   "source": [
    "dataset = oml.datasets.get_dataset(1471)\n",
    "\n",
    "# Print a summary\n",
    "print(\"This is dataset '%s', the target feature is '%s'\" % \n",
    "      (dataset.name, dataset.default_target_attribute))\n",
    "print(\"URL: %s\" % dataset.url)\n",
    "print(dataset.description[:500])"
   ]
  },
  {
   "cell_type": "markdown",
   "metadata": {
    "nbpresent": {
     "id": "a80f9990-e073-48e6-9df3-4e27f5db74f7"
    },
    "slideshow": {
     "slide_type": "subslide"
    }
   },
   "source": [
    "Get the actual data.  \n",
    "Returned as numpy array, with meta-info (e.g. target feature, feature names,...)"
   ]
  },
  {
   "cell_type": "code",
   "execution_count": null,
   "metadata": {
    "collapsed": false,
    "nbpresent": {
     "id": "ab60383f-fc6d-4ca0-80f7-55ece02a0ac4"
    }
   },
   "outputs": [],
   "source": [
    "X, y, attribute_names = dataset.get_data(\n",
    "    target=dataset.default_target_attribute, \n",
    "    return_attribute_names=True)\n",
    "eeg = pd.DataFrame(X, columns=attribute_names)\n",
    "eeg['class'] = y\n",
    "print(eeg[:10])"
   ]
  },
  {
   "cell_type": "markdown",
   "metadata": {},
   "source": [
    "### Exercise\n",
    "- Explore the data visually"
   ]
  },
  {
   "cell_type": "code",
   "execution_count": null,
   "metadata": {
    "collapsed": false,
    "slideshow": {
     "slide_type": "skip"
    }
   },
   "outputs": [],
   "source": [
    "%matplotlib inline\n",
    "eegs = eeg.sample(n=1000)\n",
    "pd.scatter_matrix(eegs.iloc[:100,:4], c=eegs[:100]['class'], figsize=(10, 10), \n",
    "                  marker='o', hist_kwds={'bins': 20}, \n",
    "                  alpha=.8, cmap='plasma');"
   ]
  },
  {
   "cell_type": "markdown",
   "metadata": {
    "nbpresent": {
     "id": "e5126f2b-6a3b-48a4-bd2d-9fa1bf76c8d4"
    },
    "slideshow": {
     "slide_type": "slide"
    }
   },
   "source": [
    "## Train machine learning models\n",
    "Train a scikit-learn model on the data manually"
   ]
  },
  {
   "cell_type": "code",
   "execution_count": null,
   "metadata": {
    "collapsed": false,
    "nbpresent": {
     "id": "e99e1923-f713-480b-aeb7-317f1ca9f21c"
    }
   },
   "outputs": [],
   "source": [
    "from sklearn import neighbors\n",
    "\n",
    "dataset = oml.datasets.get_dataset(1471)\n",
    "X, y = dataset.get_data(target=dataset.default_target_attribute)\n",
    "clf = neighbors.KNeighborsClassifier(n_neighbors=1)\n",
    "clf.fit(X, y)"
   ]
  },
  {
   "cell_type": "markdown",
   "metadata": {
    "nbpresent": {
     "id": "eeb5fce8-4073-40c3-ab2b-a211bc77b1d4"
    },
    "slideshow": {
     "slide_type": "skip"
    }
   },
   "source": [
    "You can also ask for meta-data to automatically preprocess the data\n",
    "- e.g. categorical features -> do feature encoding"
   ]
  },
  {
   "cell_type": "code",
   "execution_count": null,
   "metadata": {
    "collapsed": false,
    "nbpresent": {
     "id": "a32e47f7-6d88-4277-ac5d-fb3f62012860"
    },
    "slideshow": {
     "slide_type": "skip"
    }
   },
   "outputs": [],
   "source": [
    "from sklearn import preprocessing\n",
    "dataset = oml.datasets.get_dataset(10)\n",
    "X, y, categorical = dataset.get_data(\n",
    "    target=dataset.default_target_attribute,\n",
    "    return_categorical_indicator=True)\n",
    "print(\"Categorical features: %s\" % categorical)\n",
    "enc = preprocessing.OneHotEncoder(categorical_features=categorical)\n",
    "X = enc.fit_transform(X)\n",
    "clf.fit(X, y)"
   ]
  },
  {
   "cell_type": "markdown",
   "metadata": {
    "nbpresent": {
     "id": "ba1405dc-32b8-4518-9904-c54b0cae6757"
    },
    "slideshow": {
     "slide_type": "slide"
    }
   },
   "source": [
    "# Tasks: set your own goals\n",
    "and invite others to work on the same problem  \n",
    "Note: tasks are typically created in the web interface"
   ]
  },
  {
   "cell_type": "markdown",
   "metadata": {
    "nbpresent": {
     "id": "80b6e0fc-16cb-40a4-bc1c-c6e3a367db71"
    },
    "slideshow": {
     "slide_type": "subslide"
    }
   },
   "source": [
    "## Listing tasks"
   ]
  },
  {
   "cell_type": "code",
   "execution_count": null,
   "metadata": {
    "collapsed": false,
    "nbpresent": {
     "id": "6458d620-c77c-4d30-ab93-49981ab7156a"
    }
   },
   "outputs": [],
   "source": [
    "task_list = oml.tasks.list_tasks(size=5000) # Get first 5000 tasks\n",
    "\n",
    "mytasks = pd.DataFrame(task_list).transpose()\n",
    "mytasks = mytasks[['tid','did','name','task_type','estimation_procedure','evaluation_measures']]\n",
    "#print(mytasks.columns)\n",
    "print(\"First 5 of %s tasks:\" % len(mytasks))\n",
    "print(mytasks.head())"
   ]
  },
  {
   "cell_type": "markdown",
   "metadata": {
    "slideshow": {
     "slide_type": "subslide"
    }
   },
   "source": [
    "### Exercise\n",
    "Search for the tasks on the 'eeg-eye-state' dataset"
   ]
  },
  {
   "cell_type": "code",
   "execution_count": null,
   "metadata": {
    "collapsed": false
   },
   "outputs": [],
   "source": [
    "print(mytasks.query('name==\"eeg-eye-state\"'))"
   ]
  },
  {
   "cell_type": "markdown",
   "metadata": {
    "nbpresent": {
     "id": "fdd2d347-6239-4718-ae3a-9385f01fa416"
    },
    "slideshow": {
     "slide_type": "subslide"
    }
   },
   "source": [
    "## Download tasks"
   ]
  },
  {
   "cell_type": "code",
   "execution_count": null,
   "metadata": {
    "collapsed": false,
    "nbpresent": {
     "id": "8d954b88-96dc-48d5-ad06-524d040a0324"
    }
   },
   "outputs": [],
   "source": [
    "from pprint import pprint\n",
    "task = oml.tasks.get_task(14951)\n",
    "pprint(vars(task))"
   ]
  },
  {
   "cell_type": "markdown",
   "metadata": {
    "nbpresent": {
     "id": "a95d5c04-453b-4840-9cdf-1c248b20d35e"
    },
    "slideshow": {
     "slide_type": "slide"
    }
   },
   "source": [
    "# Runs: Easily explore models by running them on tasks\n",
    "We can run (many) scikit-learn algorithms on (many) OpenML tasks."
   ]
  },
  {
   "cell_type": "code",
   "execution_count": null,
   "metadata": {
    "collapsed": false,
    "nbpresent": {
     "id": "d1f4d4d9-8d20-4bb5-b852-f5eeff6ab8ed"
    },
    "slideshow": {
     "slide_type": "subslide"
    }
   },
   "outputs": [],
   "source": [
    "from sklearn import ensemble, tree\n",
    "\n",
    "# Get a task\n",
    "task = oml.tasks.get_task(14951)\n",
    "\n",
    "# Build any classifier or pipeline\n",
    "clf = tree.ExtraTreeClassifier()\n",
    "\n",
    "# Create a flow\n",
    "flow = oml.flows.sklearn_to_flow(clf)\n",
    "\n",
    "# Run the flow \n",
    "run = oml.runs.run_flow_on_task(task, flow)"
   ]
  },
  {
   "cell_type": "markdown",
   "metadata": {
    "nbpresent": {
     "id": "a686ebf7-8eda-47af-aa86-e46d273c3712"
    },
    "slideshow": {
     "slide_type": "subslide"
    }
   },
   "source": [
    "Share the run on the OpenML server"
   ]
  },
  {
   "cell_type": "code",
   "execution_count": null,
   "metadata": {
    "collapsed": false,
    "nbpresent": {
     "id": "367d2ee5-ca11-4372-a600-c9309f4a720e"
    }
   },
   "outputs": [],
   "source": [
    "myrun = run.publish()\n",
    "print(\"Uploaded to http://www.openml.org/r/\" + str(myrun.run_id))"
   ]
  },
  {
   "cell_type": "markdown",
   "metadata": {
    "slideshow": {
     "slide_type": "subslide"
    }
   },
   "source": [
    "### It also works with pipelines\n",
    "When you need to handle 'dirty' data, build pipelines to model then automatically"
   ]
  },
  {
   "cell_type": "code",
   "execution_count": null,
   "metadata": {
    "collapsed": false
   },
   "outputs": [],
   "source": [
    "from sklearn import pipeline, ensemble, preprocessing\n",
    "from openml import tasks,runs, datasets\n",
    "task = tasks.get_task(59)\n",
    "pipe = pipeline.Pipeline(steps=[\n",
    "            ('Imputer', preprocessing.Imputer(strategy='median')),\n",
    "            ('OneHotEncoder', preprocessing.OneHotEncoder(sparse=False, handle_unknown='ignore')),\n",
    "            ('Classifier', ensemble.RandomForestClassifier())\n",
    "           ])\n",
    "flow = oml.flows.sklearn_to_flow(pipe)\n",
    "\n",
    "run = oml.runs.run_flow_on_task(task, flow)\n",
    "myrun = run.publish()\n",
    "print(\"Uploaded to http://www.openml.org/r/\" + str(myrun.run_id))"
   ]
  },
  {
   "cell_type": "markdown",
   "metadata": {},
   "source": [
    "## Download previous results\n",
    "You can download all your results anytime, as well as everybody else's  \n",
    "List runs by uploader, flow, task, tag, id, ..."
   ]
  },
  {
   "cell_type": "code",
   "execution_count": null,
   "metadata": {
    "collapsed": false
   },
   "outputs": [],
   "source": [
    "myruns = oml.runs.list_runs(task=[14951],size=1)\n",
    "for id, params in myruns.items():\n",
    "    run = oml.runs.get_run(id)\n",
    "    pprint(run)"
   ]
  },
  {
   "cell_type": "markdown",
   "metadata": {
    "slideshow": {
     "slide_type": "slide"
    }
   },
   "source": [
    "## A Challenge\n",
    "Try to build the best possible models on several OpenML tasks, and compare your results with the rest of the class, and learn from them. Some tasks you could try (or browse openml.org):\n",
    "\n",
    "* EEG eye state: data_id:[1471](http://www.openml.org/d/1471), task_id:[14951](http://www.openml.org/t/14951)\n",
    "* Volcanoes on Venus: data_id:[1527](http://www.openml.org/d/1527), task_id:[10103](http://www.openml.org/t/10103)\n",
    "* Walking activity: data_id:[1509](http://www.openml.org/d/1509), task_id: [9945](http://www.openml.org/t/9945), 150k instances\n",
    "* Covertype (Satellite): data_id:[150](http://www.openml.org/d/150), task_id: [218](http://www.openml.org/t/218). 500k instances\n",
    "* Higgs (Physics): data_id:[23512](http://www.openml.org/d/23512), task_id:[52950](http://www.openml.org/t/52950). 100k instances, missing values"
   ]
  },
  {
   "cell_type": "markdown",
   "metadata": {
    "collapsed": true,
    "slideshow": {
     "slide_type": "subslide"
    }
   },
   "source": [
    "Easy benchmarking:"
   ]
  },
  {
   "cell_type": "code",
   "execution_count": null,
   "metadata": {
    "collapsed": false,
    "slideshow": {
     "slide_type": "-"
    }
   },
   "outputs": [],
   "source": [
    "import openml as oml\n",
    "from sklearn import neighbors\n",
    "\n",
    "for task_id in [14951,10103,9945]:\n",
    "    task = oml.tasks.get_task(task_id)\n",
    "    data = oml.datasets.get_dataset(task.dataset_id)\n",
    "    clf = neighbors.KNeighborsClassifier(n_neighbors=5)\n",
    "    flow = oml.flows.sklearn_to_flow(clf)\n",
    "    run = oml.runs.run_flow_on_task(task, flow)\n",
    "    myrun = run.publish()\n",
    "    print(\"kNN on %s: http://www.openml.org/r/%d\" % (data.name, myrun.run_id))"
   ]
  },
  {
   "cell_type": "markdown",
   "metadata": {
    "collapsed": true,
    "slideshow": {
     "slide_type": "slide"
    }
   },
   "source": [
    "## Other possibilities\n",
    "OpenML's Python API is currently still under development. To be added soon:\n",
    "\n",
    "* Support for uploading pipelines\n",
    "* Organizing data sets, algorithms, and experiments into studies\n",
    "* Downloading previous experiments, evaluations and models\n",
    "* Uploading new datasets to OpenML\n",
    "* Filters for listings (e.g. filter by author, tags, other properties)\n",
    "\n",
    "All of this is already possible with the R and Java API."
   ]
  }
 ],
 "metadata": {
  "anaconda-cloud": {},
  "celltoolbar": "Slideshow",
  "colabVersion": "0.1",
  "kernelspec": {
   "display_name": "Python [default]",
   "language": "python",
   "name": "python3"
  },
  "language_info": {
   "codemirror_mode": {
    "name": "ipython",
    "version": 3
   },
   "file_extension": ".py",
   "mimetype": "text/x-python",
   "name": "python",
   "nbconvert_exporter": "python",
   "pygments_lexer": "ipython3",
   "version": "3.5.2"
  }
 },
 "nbformat": 4,
 "nbformat_minor": 0
}
