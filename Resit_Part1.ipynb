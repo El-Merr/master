{
 "cells": [
  {
   "cell_type": "markdown",
   "metadata": {},
   "source": [
    "# Foundations of Data Mining: Resit \n",
    "Please complete all assignments in this notebook. You should submit this notebook, as well as a PDF version (See File > Download as)."
   ]
  },
  {
   "cell_type": "code",
   "execution_count": 2,
   "metadata": {
    "collapsed": true
   },
   "outputs": [],
   "source": [
    "%matplotlib inline\n",
    "from preamble import *\n",
    "plt.rcParams['savefig.dpi'] = 100 # This controls the size of your figures\n",
    "# Comment out and restart notebook if you only want the last output of each cell.\n",
    "InteractiveShell.ast_node_interactivity = \"all\" "
   ]
  },
  {
   "cell_type": "markdown",
   "metadata": {},
   "source": [
    "## (1) Random Projections (3 points)"
   ]
  },
  {
   "cell_type": "markdown",
   "metadata": {},
   "source": [
    "Implement random projections for dimensionality reduction as follows.\n",
    "Randomly generate a $k \\times d$ matrix $\\bf R$ by choosing its coefficients\n",
    "$$\n",
    "r_{i,j}=\n",
    "\\begin{cases}\n",
    "+\\frac{1}{{\\sqrt{d}}} \\quad \\text{with probability}\\quad &\\frac{1}{2}\\\\\n",
    "-\\frac{1}{\\sqrt{d}} \\quad \\text{with probability} \\quad & \\frac{1}{2}\n",
    "\\end{cases}\n",
    "$$ \n",
    "Let $f:\\mathbb{R}^d \\rightarrow \\mathbb{R}^k$ denote the linear mapping function that \n",
    "multiplies a $d$-dimensional vector with this matrix $f(p)={\\bf R}p$.\n"
   ]
  },
  {
   "cell_type": "markdown",
   "metadata": {},
   "source": [
    "\n",
    "Evaluate on the MNIST dataset (handwritten digits) how well the Euclidean distance between pairs of images.\n",
    "Plotting a histogram of the  values $\\phi(p,q) = \\frac{\\|f(p)-f(q)\\|}{\\|p-q\\|}$ for a random subset of pairs of images $p$ and $q$. These values should be concentrated around a certain value for fixed $k$. Use the following values of $k=45,90,400$ in your experiments.  \n",
    "\n",
    "Can you give an expression of the expected value of $\\phi(p,q)$ expressed in terms of $k$ and $d$? Explain your answer.\n",
    "\n",
    "\n",
    "You should not use sklearn.random_projection for this assignment, but you may use numpy.\n"
   ]
  },
  {
   "cell_type": "code",
   "execution_count": 3,
   "metadata": {
    "collapsed": true
   },
   "outputs": [],
   "source": [
    "# This is a temporary read-only OpenML key. Replace with your own key later. \n",
    "oml.config.apikey = '11e82c8d91c5abece86f424369c71590'"
   ]
  },
  {
   "cell_type": "code",
   "execution_count": 4,
   "metadata": {
    "collapsed": true
   },
   "outputs": [],
   "source": [
    "mnist_data = oml.datasets.get_dataset(554) # Download MNIST data\n",
    "# Get the predictors X and the labels y\n",
    "X, y = mnist_data.get_data(target=mnist_data.default_target_attribute); "
   ]
  },
  {
   "cell_type": "code",
   "execution_count": 5,
   "metadata": {},
   "outputs": [
    {
     "data": {
      "text/plain": [
       "0"
      ]
     },
     "execution_count": 5,
     "metadata": {},
     "output_type": "execute_result"
    }
   ],
   "source": [
    "# Randomly sample with probability 1/2\n",
    "np.random.randint(0,2)"
   ]
  },
  {
   "cell_type": "markdown",
   "metadata": {},
   "source": [
    "## (2) Projection onto a hyperplane (4 points)\n",
    "Let $F$ be a $k$-dimensional hyperplane given by the parametric representation\n",
    "$$ g(\\lambda) = \\mu + {\\bf V} \\lambda,$$\n",
    "where $\\mu \\in \\mathbb{R}^d$ and the columns of $\\bf V$ are pairwise orthogonal and normal vectors $\\bf v_1,\\dots,v_k \\in \\mathbb{R}^d$.\n",
    "Let $f:\\mathbb{R}^d\\rightarrow F$ be the projection that maps every point ${\\bf p} \\in \\mathbb{R}^d$ to its nearest point on\n",
    "$F$ (where distances are measured using the Euclidean distance). \n",
    "\n",
    "Prove that for any ${\\bf p,q} \\in \\mathbb{R}^d$, it holds that\n",
    "$$ \\|f({\\bf p})-f({\\bf q})\\| \\leq \\|{\\bf p-q}\\|. $$\n",
    "\n",
    "(Hint: Write $f(\\bf p)$ and $f(\\bf q)$ using a projection onto the subspace spanned by the columns of $V$. Rewrite this using a rotation followed by an orthogonal projection. What happens to the distance in each step?)\n"
   ]
  },
  {
   "cell_type": "markdown",
   "metadata": {},
   "source": [
    "## (3) Jaccard Similarity (3 points)\n",
    "\n",
    "One might expect that we could estimate the Jaccard similarity of two sets\n",
    "without using all possible permutations of rows. For example, we could only\n",
    "allow cyclic permutations; i.e. start at a randomly chosen row $r$, which\n",
    "becomes the first in the order, followed by rows $r+1$, $r+2$, and so on down\n",
    "to the last row, and then continuing with the first row, second row, and so on,\n",
    "down to row $r-1$. There are only $n$ such permutations if there are $n$ rows.\n",
    "However, these permutations are not sufficient to estimate the Jaccard\n",
    "similarity correctly. Give an example of a two-column matrix where averaging\n",
    "over all cyclic permutations does not give the Jaccard similarity of the two\n",
    "columns."
   ]
  }
 ],
 "metadata": {
  "kernelspec": {
   "display_name": "Python 3",
   "language": "python",
   "name": "python3"
  },
  "language_info": {
   "codemirror_mode": {
    "name": "ipython",
    "version": 3
   },
   "file_extension": ".py",
   "mimetype": "text/x-python",
   "name": "python",
   "nbconvert_exporter": "python",
   "pygments_lexer": "ipython3",
   "version": "3.6.2"
  }
 },
 "nbformat": 4,
 "nbformat_minor": 2
}
