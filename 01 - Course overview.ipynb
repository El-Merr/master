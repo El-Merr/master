{
 "cells": [
  {
   "cell_type": "code",
   "execution_count": 2,
   "metadata": {
    "collapsed": false,
    "slideshow": {
     "slide_type": "skip"
    }
   },
   "outputs": [
    {
     "data": {
      "text/html": [
       "<style>html, body{overflow-y: visible !important} .CodeMirror{min-width:105% !important;} .rise-enabled .CodeMirror, .rise-enabled .output_subarea{font-size:140%; line-height:1.2; overflow: visible;} .output_subarea pre{width:110%}</style>"
      ],
      "text/plain": [
       "<IPython.core.display.HTML object>"
      ]
     },
     "execution_count": 2,
     "metadata": {},
     "output_type": "execute_result"
    }
   ],
   "source": [
    "# Global imports and settings\n",
    "from preamble import *\n",
    "HTML('''<style>html, body{overflow-y: visible !important} .CodeMirror{min-width:105% !important;} .rise-enabled .CodeMirror, .rise-enabled .output_subarea{font-size:140%; line-height:1.2; overflow: visible;} .output_subarea pre{width:110%}</style>''') # For slides"
   ]
  },
  {
   "cell_type": "markdown",
   "metadata": {
    "slideshow": {
     "slide_type": "slide"
    }
   },
   "source": [
    "# Foundations of Machine Learning\n",
    "## Course overview"
   ]
  },
  {
   "cell_type": "markdown",
   "metadata": {
    "slideshow": {
     "slide_type": "slide"
    }
   },
   "source": [
    "Learning objectives:\n",
    "- Build predictive models from training data\n",
    "- Correctly evaluate predictive models\n",
    "- Analyze and compare the performance of different models\n",
    "- Reason about the mathematical foundations of data mining techniques\n",
    "- Recognize when a predictive model is under/overfitting\n",
    "- Understand and exploit the bias-variance tradeoff\n",
    "- Combine the above with dimension-reduction techniques\n",
    "- Visualize and explore data using embeddings and clustering"
   ]
  },
  {
   "cell_type": "markdown",
   "metadata": {
    "collapsed": true,
    "slideshow": {
     "slide_type": "slide"
    }
   },
   "source": [
    "Lecturers  \n",
    "- Joaquin Vanschoren (j.vanschoren@tue.nl) MF 7.104a\n",
    "- Vlado Menkovski (v.menkovski@tue.nl) MF 7.097b\n",
    "- Anne Driemel (a.driemel@tue.nl) MF 7.073\n",
    "\n",
    "Contact hours  \n",
    "- Mondays, 10:45 - 12:30: Plenary Lectures (AUD 3)\n",
    "- Thursdays, 13:45 - 15:30: Tutorials and Feedback (AUD 3)\n",
    "- Thursdays, 15:45 - 17:30: Plenary Lectures (Flux 1.03)\n",
    "\n",
    "See Canvas for all details, announcements, assignments,..."
   ]
  },
  {
   "cell_type": "code",
   "execution_count": null,
   "metadata": {
    "collapsed": true
   },
   "outputs": [],
   "source": []
  }
 ],
 "metadata": {
  "anaconda-cloud": {},
  "celltoolbar": "Slideshow",
  "kernelspec": {
   "display_name": "Python [default]",
   "language": "python",
   "name": "python3"
  },
  "language_info": {
   "codemirror_mode": {
    "name": "ipython",
    "version": 3
   },
   "file_extension": ".py",
   "mimetype": "text/x-python",
   "name": "python",
   "nbconvert_exporter": "python",
   "pygments_lexer": "ipython3",
   "version": "3.5.2"
  }
 },
 "nbformat": 4,
 "nbformat_minor": 2
}
