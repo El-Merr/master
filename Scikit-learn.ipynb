{
 "cells": [
  {
   "cell_type": "markdown",
   "metadata": {
    "slideshow": {
     "slide_type": "subslide"
    }
   },
   "source": [
    "# Machine Learning with Scikit-Learn"
   ]
  },
  {
   "cell_type": "code",
   "execution_count": 59,
   "metadata": {
    "collapsed": false,
    "slideshow": {
     "slide_type": "skip"
    }
   },
   "outputs": [],
   "source": [
    "# Global imports and settings\n",
    "\n",
    "# Matplotlib\n",
    "%matplotlib inline\n",
    "from matplotlib import pyplot as plt\n",
    "plt.rcParams[\"figure.figsize\"] = (8, 8)\n",
    "plt.rcParams[\"figure.max_open_warning\"] = -1\n",
    "\n",
    "# Print options\n",
    "import numpy as np\n",
    "np.set_printoptions(precision=3)\n",
    "\n",
    "# Slideshow\n",
    "from notebook.services.config import ConfigManager\n",
    "cm = ConfigManager()\n",
    "cm.update('livereveal', {'width': 1440, 'height': 768, 'scroll': True, 'theme': 'simple'})\n",
    "\n",
    "# Silence warnings\n",
    "import warnings\n",
    "warnings.simplefilter(action=\"ignore\", category=FutureWarning)\n",
    "warnings.simplefilter(action=\"ignore\", category=UserWarning)\n",
    "warnings.simplefilter(action=\"ignore\", category=RuntimeWarning)\n",
    "\n",
    "# Helper functions\n",
    "def plot_surface(clf, X, y, \n",
    "                 xlim=(-10, 10), ylim=(-10, 10), n_steps=250, \n",
    "                 subplot=None, show=True):\n",
    "    if subplot is None:\n",
    "        fig = plt.figure()\n",
    "    else:\n",
    "        plt.subplot(*subplot)\n",
    "        \n",
    "    xx, yy = np.meshgrid(np.linspace(xlim[0], xlim[1], n_steps), \n",
    "                         np.linspace(ylim[0], ylim[1], n_steps))\n",
    "    \n",
    "    if hasattr(clf, \"decision_function\"):\n",
    "        z = clf.decision_function(np.c_[xx.ravel(), yy.ravel()])\n",
    "    else:\n",
    "        z = clf.predict_proba(np.c_[xx.ravel(), yy.ravel()])[:, 1]\n",
    "        \n",
    "    z = z.reshape(xx.shape)\n",
    "    plt.contourf(xx, yy, z, alpha=0.8, cmap=plt.cm.RdBu_r)\n",
    "    plt.scatter(X[:, 0], X[:, 1], c=y)\n",
    "    plt.xlim(*xlim)\n",
    "    plt.ylim(*ylim)\n",
    "    \n",
    "    if show:\n",
    "        plt.show()"
   ]
  },
  {
   "cell_type": "code",
   "execution_count": 60,
   "metadata": {
    "collapsed": false,
    "slideshow": {
     "slide_type": "skip"
    }
   },
   "outputs": [],
   "source": [
    "# %%javascript\n",
    "# Reveal.addEventListener(\"slidechanged\", function(event){ window.location.hash = \"header\"; });"
   ]
  },
  {
   "cell_type": "markdown",
   "metadata": {
    "slideshow": {
     "slide_type": "subslide"
    }
   },
   "source": [
    "## Scikit-Learn\n",
    "\n",
    "* Machine learning library written in __Python__\n",
    "* __Simple and efficient__, for both experts and non-experts\n",
    "* Classical, __well-established machine learning algorithms__\n",
    "* Shipped with <a href=\"http://scikit-learn.org/dev/documentation.html\">documentation</a> and <a href=\"http://scikit-learn.org/dev/auto_examples/index.html\">examples</a>\n",
    "* Community-driven"
   ]
  },
  {
   "cell_type": "markdown",
   "metadata": {
    "slideshow": {
     "slide_type": "subslide"
    }
   },
   "source": [
    "## Algorithms\n",
    "See the [Reference](http://scikit-learn.org/dev/modules/classes.html)"
   ]
  },
  {
   "cell_type": "markdown",
   "metadata": {
    "slideshow": {
     "slide_type": "fragment"
    }
   },
   "source": [
    "__Supervised learning:__\n",
    "\n",
    "* Linear models (Ridge, Lasso, Elastic Net, ...)\n",
    "* Support Vector Machines\n",
    "* Tree-based methods (Classification/Regression Trees, Random Forests,...)\n",
    "* Nearest neighbors\n",
    "* Neural networks \n",
    "* Gaussian Processes\n",
    "* Feature selection"
   ]
  },
  {
   "cell_type": "markdown",
   "metadata": {
    "slideshow": {
     "slide_type": "subslide"
    }
   },
   "source": [
    "__Unsupervised learning:__\n",
    "\n",
    "* Clustering (KMeans, ...)\n",
    "* Matric Decomposition (PCA, ...)\n",
    "* Manifold Learning (Embeddings)\n",
    "* Density estimation\n",
    "* Outlier detection"
   ]
  },
  {
   "cell_type": "markdown",
   "metadata": {
    "slideshow": {
     "slide_type": "fragment"
    }
   },
   "source": [
    "__Model selection and evaluation:__\n",
    "\n",
    "* Cross-validation\n",
    "* Grid-search\n",
    "* Lots of metrics"
   ]
  },
  {
   "cell_type": "markdown",
   "metadata": {
    "slideshow": {
     "slide_type": "slide"
    }
   },
   "source": [
    "# Classification"
   ]
  },
  {
   "cell_type": "markdown",
   "metadata": {
    "slideshow": {
     "slide_type": "subslide"
    }
   },
   "source": [
    "## Data \n",
    "\n",
    "- Input data = Numpy arrays or Scipy sparse matrices ;\n",
    "- Algorithms are expressed using high-level operations defined on matrices or vectors (similar to MATLAB) ;\n",
    "    - Leverage efficient low-leverage implementations ;\n",
    "    - Keep code short and readable. "
   ]
  },
  {
   "cell_type": "code",
   "execution_count": 61,
   "metadata": {
    "collapsed": false,
    "slideshow": {
     "slide_type": "subslide"
    }
   },
   "outputs": [
    {
     "name": "stdout",
     "output_type": "stream",
     "text": [
      "[[-6.453 -8.764]\n",
      " [ 0.29   0.147]\n",
      " [-5.184 -1.253]\n",
      " ..., \n",
      " [-0.231 -1.608]\n",
      " [-0.603  6.873]\n",
      " [ 2.284  4.874]]\n",
      "['r' 'r' 'b' 'r' 'b']\n"
     ]
    }
   ],
   "source": [
    "# Generate data\n",
    "from sklearn.datasets import make_blobs\n",
    "X, y = make_blobs(n_samples=1000, centers=20, random_state=123)\n",
    "labels = [\"b\", \"r\"]\n",
    "y = np.take(labels, (y < 10)) # Relabels numeric values to b,r\n",
    "print(X)\n",
    "print(y[:5])"
   ]
  },
  {
   "cell_type": "code",
   "execution_count": 62,
   "metadata": {
    "collapsed": false,
    "slideshow": {
     "slide_type": "fragment"
    }
   },
   "outputs": [
    {
     "name": "stdout",
     "output_type": "stream",
     "text": [
      "(1000, 2)\n",
      "(1000,)\n"
     ]
    }
   ],
   "source": [
    "# X is a 2 dimensional array, with 1000 rows and 2 columns\n",
    "print(X.shape)\n",
    " \n",
    "# y is a vector of 1000 elements\n",
    "print(y.shape)"
   ]
  },
  {
   "cell_type": "code",
   "execution_count": 63,
   "metadata": {
    "collapsed": false,
    "slideshow": {
     "slide_type": "subslide"
    }
   },
   "outputs": [
    {
     "name": "stdout",
     "output_type": "stream",
     "text": [
      "[[ 0.29   0.147]\n",
      " [-5.184 -1.253]\n",
      " [-4.714  3.674]]\n",
      "[[-6.453 -8.764]\n",
      " [ 0.29   0.147]\n",
      " [-5.184 -1.253]\n",
      " [-4.714  3.674]\n",
      " [ 4.516 -2.881]]\n",
      "[-4.438 -2.46   4.331 -7.921  1.57   0.565  4.996  4.758 -1.604  1.101]\n",
      "[[-5.184 -1.253]\n",
      " [ 4.516 -2.881]\n",
      " [ 1.708  2.624]\n",
      " [-0.526  8.96 ]\n",
      " [-1.076  9.787]]\n"
     ]
    }
   ],
   "source": [
    "# Rows and columns can be accessed with lists, slices or masks\n",
    "print(X[[1, 2, 3]])     # rows 1, 2 and 3\n",
    "print(X[:5])            # 5 first rows\n",
    "print(X[500:510, 0])    # values from row 500 to row 510 at column 0\n",
    "print(X[y == \"b\"][:5])  # 5 first rows for which y is \"b\""
   ]
  },
  {
   "cell_type": "code",
   "execution_count": 64,
   "metadata": {
    "collapsed": false,
    "slideshow": {
     "slide_type": "subslide"
    }
   },
   "outputs": [
    {
     "data": {
      "image/png": "[encoded data removed]",
      "text/plain": [
       "<matplotlib.figure.Figure at 0x1232404e0>"
      ]
     },
     "metadata": {},
     "output_type": "display_data"
    }
   ],
   "source": [
    "# Plot\n",
    "plt.figure()\n",
    "for label in labels:\n",
    "    mask = (y == label)\n",
    "    plt.scatter(X[mask, 0], X[mask, 1], c=label)\n",
    "plt.xlim(-10, 10)\n",
    "plt.ylim(-10, 10)\n",
    "plt.show()"
   ]
  },
  {
   "cell_type": "markdown",
   "metadata": {
    "slideshow": {
     "slide_type": "subslide"
    }
   },
   "source": [
    "## Loading external data\n",
    "\n",
    "- Numpy provides some [simple tools](https://docs.scipy.org/doc/numpy/reference/routines.io.html) for loading data from files (CSV, binary, etc);\n",
    "\n",
    "- For structured data, Pandas provides more [advanced tools](http://pandas.pydata.org/pandas-docs/stable/io.html) (CSV, JSON, Excel, HDF5, SQL, etc);\n",
    "\n",
    "- For ROOT files, ``root_numpy`` provides loaders and converters to Numpy arrays."
   ]
  },
  {
   "cell_type": "markdown",
   "metadata": {
    "slideshow": {
     "slide_type": "subslide"
    }
   },
   "source": [
    "## Loading data from OpenML\n",
    "* OpenML: An open machine learning collaboration platform with many datasets, models, experiments\n",
    "* Register on [openml.org](http://www.openml.org), go to your profile to find API your key\n",
    "    - Store it in a file (e.g. `.openml/apikey.txt`)\n",
    "* Browse openml.org for interesting datasets, download by their ID"
   ]
  },
  {
   "cell_type": "code",
   "execution_count": 1,
   "metadata": {
    "collapsed": true,
    "slideshow": {
     "slide_type": "skip"
    }
   },
   "outputs": [],
   "source": [
    "from openml import datasets, tasks, runs\n",
    "import pandas as pd\n",
    "import os"
   ]
  },
  {
   "cell_type": "markdown",
   "metadata": {},
   "source": [
    "### Authentication\n",
    "To talk to the OpenML server you need an API key that can be found in your profile on openml.org (after you are logged in)"
   ]
  },
  {
   "cell_type": "code",
   "execution_count": 66,
   "metadata": {
    "collapsed": false
   },
   "outputs": [],
   "source": [
    "# Set your API key in scripts\n",
    "#openml.config.apikey = FILL_IN_YOUR_KEY\n",
    "\n",
    "# To avoid showing your API key in scripts, create a file in your home dir '~/.openml/config' with the line:\n",
    "#apikey = FILL_IN_YOUR_KEY"
   ]
  },
  {
   "cell_type": "markdown",
   "metadata": {
    "slideshow": {
     "slide_type": "subslide"
    }
   },
   "source": [
    "### List ALL the datasets"
   ]
  },
  {
   "cell_type": "code",
   "execution_count": 4,
   "metadata": {
    "collapsed": false
   },
   "outputs": [
    {
     "name": "stdout",
     "output_type": "stream",
     "text": [
      "First 10 of 19488 datasets...\n",
      "                name NumberOfInstances NumberOfFeatures\n",
      "did                                                    \n",
      "1             anneal               898               39\n",
      "2             anneal               898               39\n",
      "3           kr-vs-kp              3196               37\n",
      "4              labor                57               17\n",
      "5         arrhythmia               452              280\n",
      "6             letter             20000               17\n",
      "7          audiology               226               70\n",
      "8    liver-disorders               345                7\n",
      "9              autos               205               26\n",
      "10             lymph               148               19\n"
     ]
    }
   ],
   "source": [
    "# Ask OpenML for all datasets\n",
    "datalist = datasets.list_datasets()\n",
    "\n",
    "# Convert to pandas dataframe\n",
    "data_sets = pd.DataFrame(datalist).T\n",
    "data_sets.set_index('did', inplace=True)\n",
    "print(\"First 10 of %s datasets...\" % len(datalist))\n",
    "print(data_sets[:10][['name','NumberOfInstances','NumberOfFeatures']])"
   ]
  },
  {
   "cell_type": "markdown",
   "metadata": {
    "slideshow": {
     "slide_type": "subslide"
    }
   },
   "source": [
    "OpenML returns a lot of meta-data"
   ]
  },
  {
   "cell_type": "code",
   "execution_count": 68,
   "metadata": {
    "collapsed": false
   },
   "outputs": [
    {
     "name": "stdout",
     "output_type": "stream",
     "text": [
      "MajorityClassSize                        684\n",
      "MaxNominalAttDistinctValues               10\n",
      "MinorityClassSize                          0\n",
      "NumberOfClasses                            6\n",
      "NumberOfFeatures                          39\n",
      "NumberOfInstances                        898\n",
      "NumberOfInstancesWithMissingValues         0\n",
      "NumberOfMissingValues                      0\n",
      "NumberOfNumericFeatures                    6\n",
      "NumberOfSymbolicFeatures                  33\n",
      "format                                  ARFF\n",
      "name                                  anneal\n",
      "status                                active\n",
      "Name: 1, dtype: object\n"
     ]
    }
   ],
   "source": [
    "# Dataset 1 (anneal)\n",
    "print(data_sets.loc[1])"
   ]
  },
  {
   "cell_type": "markdown",
   "metadata": {},
   "source": [
    "Filter datasets based on any property"
   ]
  },
  {
   "cell_type": "code",
   "execution_count": 69,
   "metadata": {
    "collapsed": false,
    "slideshow": {
     "slide_type": "subslide"
    }
   },
   "outputs": [
    {
     "name": "stdout",
     "output_type": "stream",
     "text": [
      "First 10 of 226 datasets...\n",
      "                               name  NumberOfInstances\n",
      "did                                                   \n",
      "1588                            w8a              64700\n",
      "4533   KEGGMetabolicReactionNetwork              65554\n",
      "1591                      connect-4              67557\n",
      "554                       mnist_784              70000\n",
      "1578                       real-sim              72309\n",
      "1213                        BNG(mv)              78732\n",
      "23396               COMET_MC_SAMPLE              89640\n",
      "23395               COMET_MC_SAMPLE              89640\n",
      "23517                   numerai28.6              96320\n",
      "4532                          higgs              98050\n"
     ]
    }
   ],
   "source": [
    "filter = (data_sets.NumberOfInstances > 60000) & (data_sets.NumberOfFeatures > 5)\n",
    "big_data = data_sets.loc[filter].sort_values(by='NumberOfInstances', ascending=True)\n",
    "print(\"First 10 of %s datasets...\" % len(big_data))\n",
    "print(big_data[:10][['name', 'NumberOfInstances']])"
   ]
  },
  {
   "cell_type": "markdown",
   "metadata": {
    "slideshow": {
     "slide_type": "subslide"
    }
   },
   "source": [
    "Download a specific dataset. This is done based on the dataset ID (called 'did' in the table above)."
   ]
  },
  {
   "cell_type": "code",
   "execution_count": 71,
   "metadata": {
    "collapsed": false
   },
   "outputs": [
    {
     "name": "stdout",
     "output_type": "stream",
     "text": [
      "This is dataset 'iris', the target feature is called 'class'\n",
      "URL: http://www.openml.org/data/download/61/dataset_61_iris.arff\n",
      "**Author**: R.A. Fisher  \n",
      "**Source**: [UCI](https://archive.ics.uci.edu/ml/datasets/Iris) - 1936 - Donated by Michael Marshall  \n",
      "**Please cite**:   \n",
      "\n",
      "**Iris Plants Database**  \n",
      "This is perhaps the best known database to be found in the pattern recognition literature.  Fisher's paper is a classic in the field and is referenced frequently to this day.  (See Duda & Hart, for example.)  The data set contains 3 classes of 50 instances each, where each class refers to a type of iris plant.  One class \n"
     ]
    }
   ],
   "source": [
    "dataset = datasets.get_dataset(61)\n",
    "\n",
    "print(\"This is dataset '%s', the target feature is called '%s'\" % (dataset.name, dataset.default_target_attribute))\n",
    "print(\"URL: %s\" % dataset.url)\n",
    "print(dataset.description[:500])"
   ]
  },
  {
   "cell_type": "markdown",
   "metadata": {
    "slideshow": {
     "slide_type": "slide"
    }
   },
   "source": [
    "Get the actual data"
   ]
  },
  {
   "cell_type": "code",
   "execution_count": 72,
   "metadata": {
    "collapsed": false
   },
   "outputs": [
    {
     "data": {
      "text/plain": [
       "array([[ 5.1,  3.5,  1.4,  0.2,  0. ],\n",
       "       [ 4.9,  3. ,  1.4,  0.2,  0. ],\n",
       "       [ 4.7,  3.2,  1.3,  0.2,  0. ],\n",
       "       [ 4.6,  3.1,  1.5,  0.2,  0. ],\n",
       "       [ 5. ,  3.6,  1.4,  0.2,  0. ],\n",
       "       [ 5.4,  3.9,  1.7,  0.4,  0. ],\n",
       "       [ 4.6,  3.4,  1.4,  0.3,  0. ],\n",
       "       [ 5. ,  3.4,  1.5,  0.2,  0. ],\n",
       "       [ 4.4,  2.9,  1.4,  0.2,  0. ],\n",
       "       [ 4.9,  3.1,  1.5,  0.1,  0. ],\n",
       "       [ 5.4,  3.7,  1.5,  0.2,  0. ],\n",
       "       [ 4.8,  3.4,  1.6,  0.2,  0. ],\n",
       "       [ 4.8,  3. ,  1.4,  0.1,  0. ],\n",
       "       [ 4.3,  3. ,  1.1,  0.1,  0. ],\n",
       "       [ 5.8,  4. ,  1.2,  0.2,  0. ],\n",
       "       [ 5.7,  4.4,  1.5,  0.4,  0. ],\n",
       "       [ 5.4,  3.9,  1.3,  0.4,  0. ],\n",
       "       [ 5.1,  3.5,  1.4,  0.3,  0. ],\n",
       "       [ 5.7,  3.8,  1.7,  0.3,  0. ],\n",
       "       [ 5.1,  3.8,  1.5,  0.3,  0. ],\n",
       "       [ 5.4,  3.4,  1.7,  0.2,  0. ],\n",
       "       [ 5.1,  3.7,  1.5,  0.4,  0. ],\n",
       "       [ 4.6,  3.6,  1. ,  0.2,  0. ],\n",
       "       [ 5.1,  3.3,  1.7,  0.5,  0. ],\n",
       "       [ 4.8,  3.4,  1.9,  0.2,  0. ],\n",
       "       [ 5. ,  3. ,  1.6,  0.2,  0. ],\n",
       "       [ 5. ,  3.4,  1.6,  0.4,  0. ],\n",
       "       [ 5.2,  3.5,  1.5,  0.2,  0. ],\n",
       "       [ 5.2,  3.4,  1.4,  0.2,  0. ],\n",
       "       [ 4.7,  3.2,  1.6,  0.2,  0. ],\n",
       "       [ 4.8,  3.1,  1.6,  0.2,  0. ],\n",
       "       [ 5.4,  3.4,  1.5,  0.4,  0. ],\n",
       "       [ 5.2,  4.1,  1.5,  0.1,  0. ],\n",
       "       [ 5.5,  4.2,  1.4,  0.2,  0. ],\n",
       "       [ 4.9,  3.1,  1.5,  0.1,  0. ],\n",
       "       [ 5. ,  3.2,  1.2,  0.2,  0. ],\n",
       "       [ 5.5,  3.5,  1.3,  0.2,  0. ],\n",
       "       [ 4.9,  3.1,  1.5,  0.1,  0. ],\n",
       "       [ 4.4,  3. ,  1.3,  0.2,  0. ],\n",
       "       [ 5.1,  3.4,  1.5,  0.2,  0. ],\n",
       "       [ 5. ,  3.5,  1.3,  0.3,  0. ],\n",
       "       [ 4.5,  2.3,  1.3,  0.3,  0. ],\n",
       "       [ 4.4,  3.2,  1.3,  0.2,  0. ],\n",
       "       [ 5. ,  3.5,  1.6,  0.6,  0. ],\n",
       "       [ 5.1,  3.8,  1.9,  0.4,  0. ],\n",
       "       [ 4.8,  3. ,  1.4,  0.3,  0. ],\n",
       "       [ 5.1,  3.8,  1.6,  0.2,  0. ],\n",
       "       [ 4.6,  3.2,  1.4,  0.2,  0. ],\n",
       "       [ 5.3,  3.7,  1.5,  0.2,  0. ],\n",
       "       [ 5. ,  3.3,  1.4,  0.2,  0. ],\n",
       "       [ 7. ,  3.2,  4.7,  1.4,  1. ],\n",
       "       [ 6.4,  3.2,  4.5,  1.5,  1. ],\n",
       "       [ 6.9,  3.1,  4.9,  1.5,  1. ],\n",
       "       [ 5.5,  2.3,  4. ,  1.3,  1. ],\n",
       "       [ 6.5,  2.8,  4.6,  1.5,  1. ],\n",
       "       [ 5.7,  2.8,  4.5,  1.3,  1. ],\n",
       "       [ 6.3,  3.3,  4.7,  1.6,  1. ],\n",
       "       [ 4.9,  2.4,  3.3,  1. ,  1. ],\n",
       "       [ 6.6,  2.9,  4.6,  1.3,  1. ],\n",
       "       [ 5.2,  2.7,  3.9,  1.4,  1. ],\n",
       "       [ 5. ,  2. ,  3.5,  1. ,  1. ],\n",
       "       [ 5.9,  3. ,  4.2,  1.5,  1. ],\n",
       "       [ 6. ,  2.2,  4. ,  1. ,  1. ],\n",
       "       [ 6.1,  2.9,  4.7,  1.4,  1. ],\n",
       "       [ 5.6,  2.9,  3.6,  1.3,  1. ],\n",
       "       [ 6.7,  3.1,  4.4,  1.4,  1. ],\n",
       "       [ 5.6,  3. ,  4.5,  1.5,  1. ],\n",
       "       [ 5.8,  2.7,  4.1,  1. ,  1. ],\n",
       "       [ 6.2,  2.2,  4.5,  1.5,  1. ],\n",
       "       [ 5.6,  2.5,  3.9,  1.1,  1. ],\n",
       "       [ 5.9,  3.2,  4.8,  1.8,  1. ],\n",
       "       [ 6.1,  2.8,  4. ,  1.3,  1. ],\n",
       "       [ 6.3,  2.5,  4.9,  1.5,  1. ],\n",
       "       [ 6.1,  2.8,  4.7,  1.2,  1. ],\n",
       "       [ 6.4,  2.9,  4.3,  1.3,  1. ],\n",
       "       [ 6.6,  3. ,  4.4,  1.4,  1. ],\n",
       "       [ 6.8,  2.8,  4.8,  1.4,  1. ],\n",
       "       [ 6.7,  3. ,  5. ,  1.7,  1. ],\n",
       "       [ 6. ,  2.9,  4.5,  1.5,  1. ],\n",
       "       [ 5.7,  2.6,  3.5,  1. ,  1. ],\n",
       "       [ 5.5,  2.4,  3.8,  1.1,  1. ],\n",
       "       [ 5.5,  2.4,  3.7,  1. ,  1. ],\n",
       "       [ 5.8,  2.7,  3.9,  1.2,  1. ],\n",
       "       [ 6. ,  2.7,  5.1,  1.6,  1. ],\n",
       "       [ 5.4,  3. ,  4.5,  1.5,  1. ],\n",
       "       [ 6. ,  3.4,  4.5,  1.6,  1. ],\n",
       "       [ 6.7,  3.1,  4.7,  1.5,  1. ],\n",
       "       [ 6.3,  2.3,  4.4,  1.3,  1. ],\n",
       "       [ 5.6,  3. ,  4.1,  1.3,  1. ],\n",
       "       [ 5.5,  2.5,  4. ,  1.3,  1. ],\n",
       "       [ 5.5,  2.6,  4.4,  1.2,  1. ],\n",
       "       [ 6.1,  3. ,  4.6,  1.4,  1. ],\n",
       "       [ 5.8,  2.6,  4. ,  1.2,  1. ],\n",
       "       [ 5. ,  2.3,  3.3,  1. ,  1. ],\n",
       "       [ 5.6,  2.7,  4.2,  1.3,  1. ],\n",
       "       [ 5.7,  3. ,  4.2,  1.2,  1. ],\n",
       "       [ 5.7,  2.9,  4.2,  1.3,  1. ],\n",
       "       [ 6.2,  2.9,  4.3,  1.3,  1. ],\n",
       "       [ 5.1,  2.5,  3. ,  1.1,  1. ],\n",
       "       [ 5.7,  2.8,  4.1,  1.3,  1. ],\n",
       "       [ 6.3,  3.3,  6. ,  2.5,  2. ],\n",
       "       [ 5.8,  2.7,  5.1,  1.9,  2. ],\n",
       "       [ 7.1,  3. ,  5.9,  2.1,  2. ],\n",
       "       [ 6.3,  2.9,  5.6,  1.8,  2. ],\n",
       "       [ 6.5,  3. ,  5.8,  2.2,  2. ],\n",
       "       [ 7.6,  3. ,  6.6,  2.1,  2. ],\n",
       "       [ 4.9,  2.5,  4.5,  1.7,  2. ],\n",
       "       [ 7.3,  2.9,  6.3,  1.8,  2. ],\n",
       "       [ 6.7,  2.5,  5.8,  1.8,  2. ],\n",
       "       [ 7.2,  3.6,  6.1,  2.5,  2. ],\n",
       "       [ 6.5,  3.2,  5.1,  2. ,  2. ],\n",
       "       [ 6.4,  2.7,  5.3,  1.9,  2. ],\n",
       "       [ 6.8,  3. ,  5.5,  2.1,  2. ],\n",
       "       [ 5.7,  2.5,  5. ,  2. ,  2. ],\n",
       "       [ 5.8,  2.8,  5.1,  2.4,  2. ],\n",
       "       [ 6.4,  3.2,  5.3,  2.3,  2. ],\n",
       "       [ 6.5,  3. ,  5.5,  1.8,  2. ],\n",
       "       [ 7.7,  3.8,  6.7,  2.2,  2. ],\n",
       "       [ 7.7,  2.6,  6.9,  2.3,  2. ],\n",
       "       [ 6. ,  2.2,  5. ,  1.5,  2. ],\n",
       "       [ 6.9,  3.2,  5.7,  2.3,  2. ],\n",
       "       [ 5.6,  2.8,  4.9,  2. ,  2. ],\n",
       "       [ 7.7,  2.8,  6.7,  2. ,  2. ],\n",
       "       [ 6.3,  2.7,  4.9,  1.8,  2. ],\n",
       "       [ 6.7,  3.3,  5.7,  2.1,  2. ],\n",
       "       [ 7.2,  3.2,  6. ,  1.8,  2. ],\n",
       "       [ 6.2,  2.8,  4.8,  1.8,  2. ],\n",
       "       [ 6.1,  3. ,  4.9,  1.8,  2. ],\n",
       "       [ 6.4,  2.8,  5.6,  2.1,  2. ],\n",
       "       [ 7.2,  3. ,  5.8,  1.6,  2. ],\n",
       "       [ 7.4,  2.8,  6.1,  1.9,  2. ],\n",
       "       [ 7.9,  3.8,  6.4,  2. ,  2. ],\n",
       "       [ 6.4,  2.8,  5.6,  2.2,  2. ],\n",
       "       [ 6.3,  2.8,  5.1,  1.5,  2. ],\n",
       "       [ 6.1,  2.6,  5.6,  1.4,  2. ],\n",
       "       [ 7.7,  3. ,  6.1,  2.3,  2. ],\n",
       "       [ 6.3,  3.4,  5.6,  2.4,  2. ],\n",
       "       [ 6.4,  3.1,  5.5,  1.8,  2. ],\n",
       "       [ 6. ,  3. ,  4.8,  1.8,  2. ],\n",
       "       [ 6.9,  3.1,  5.4,  2.1,  2. ],\n",
       "       [ 6.7,  3.1,  5.6,  2.4,  2. ],\n",
       "       [ 6.9,  3.1,  5.1,  2.3,  2. ],\n",
       "       [ 5.8,  2.7,  5.1,  1.9,  2. ],\n",
       "       [ 6.8,  3.2,  5.9,  2.3,  2. ],\n",
       "       [ 6.7,  3.3,  5.7,  2.5,  2. ],\n",
       "       [ 6.7,  3. ,  5.2,  2.3,  2. ],\n",
       "       [ 6.3,  2.5,  5. ,  1.9,  2. ],\n",
       "       [ 6.5,  3. ,  5.2,  2. ,  2. ],\n",
       "       [ 6.2,  3.4,  5.4,  2.3,  2. ],\n",
       "       [ 5.9,  3. ,  5.1,  1.8,  2. ]], dtype=float32)"
      ]
     },
     "execution_count": 72,
     "metadata": {},
     "output_type": "execute_result"
    }
   ],
   "source": [
    "X = dataset.get_data()\n",
    "X"
   ]
  },
  {
   "cell_type": "markdown",
   "metadata": {
    "slideshow": {
     "slide_type": "slide"
    }
   },
   "source": [
    "Or in a nice pandas dataframe:"
   ]
  },
  {
   "cell_type": "code",
   "execution_count": 73,
   "metadata": {
    "collapsed": false,
    "slideshow": {
     "slide_type": "-"
    }
   },
   "outputs": [
    {
     "name": "stdout",
     "output_type": "stream",
     "text": [
      "   sepallength  sepalwidth  petallength  petalwidth  class\n",
      "0          5.1         3.5          1.4         0.2      0\n",
      "1          4.9         3.0          1.4         0.2      0\n",
      "2          4.7         3.2          1.3         0.2      0\n",
      "3          4.6         3.1          1.5         0.2      0\n",
      "4          5.0         3.6          1.4         0.2      0\n",
      "5          5.4         3.9          1.7         0.4      0\n",
      "6          4.6         3.4          1.4         0.3      0\n",
      "7          5.0         3.4          1.5         0.2      0\n",
      "8          4.4         2.9          1.4         0.2      0\n",
      "9          4.9         3.1          1.5         0.1      0\n"
     ]
    }
   ],
   "source": [
    "# Get data, as well as the labels (target) and attribute names\n",
    "X2, y2, attribute_names = dataset.get_data(target=dataset.default_target_attribute, return_attribute_names=True)\n",
    "iris = pd.DataFrame(X2, columns=attribute_names)\n",
    "iris['class'] = y2\n",
    "print(iris[:10])"
   ]
  },
  {
   "cell_type": "code",
   "execution_count": 74,
   "metadata": {
    "collapsed": false,
    "slideshow": {
     "slide_type": "slide"
    }
   },
   "outputs": [
    {
     "data": {
      "text/plain": [
       "<matplotlib.axes._subplots.AxesSubplot at 0x122faa860>"
      ]
     },
     "execution_count": 74,
     "metadata": {},
     "output_type": "execute_result"
    },
    {
     "data": {
      "image/png": "[encoded data removed]",
      "text/plain": [
       "<matplotlib.figure.Figure at 0x1157ab748>"
      ]
     },
     "metadata": {},
     "output_type": "display_data"
    }
   ],
   "source": [
    "iris.plot(kind='scatter', x='petallength', y='petalwidth', c='class', colormap='gist_rainbow', colorbar=False, s=50)"
   ]
  },
  {
   "cell_type": "markdown",
   "metadata": {},
   "source": [
    "In case you are working with scikit-learn, you can use this data right away"
   ]
  },
  {
   "cell_type": "code",
   "execution_count": 75,
   "metadata": {
    "collapsed": false,
    "slideshow": {
     "slide_type": "slide"
    }
   },
   "outputs": [
    {
     "data": {
      "text/plain": [
       "RandomForestClassifier(bootstrap=True, class_weight=None, criterion='gini',\n",
       "            max_depth=None, max_features='auto', max_leaf_nodes=None,\n",
       "            min_samples_leaf=1, min_samples_split=2,\n",
       "            min_weight_fraction_leaf=0.0, n_estimators=10, n_jobs=1,\n",
       "            oob_score=False, random_state=None, verbose=0,\n",
       "            warm_start=False)"
      ]
     },
     "execution_count": 75,
     "metadata": {},
     "output_type": "execute_result"
    }
   ],
   "source": [
    "from sklearn import preprocessing, ensemble\n",
    "X, y, categorical = dataset.get_data(target=dataset.default_target_attribute, return_categorical_indicator=True)\n",
    "enc = preprocessing.OneHotEncoder(categorical_features=categorical)\n",
    "clf = ensemble.RandomForestClassifier()\n",
    "clf.fit(X, y)"
   ]
  },
  {
   "cell_type": "markdown",
   "metadata": {
    "slideshow": {
     "slide_type": "subslide"
    }
   },
   "source": [
    "## A simple and unified API\n",
    "\n",
    "All learning algorithms in scikit-learn share a uniform and limited API consisting of complementary interfaces:\n",
    "\n",
    "- an `estimator` interface for building and fitting models;\n",
    "- a `predictor` interface for making predictions;\n",
    "- a `transformer` interface for converting data.\n",
    "\n",
    "You can __swap or plug algorithms__ "
   ]
  },
  {
   "cell_type": "markdown",
   "metadata": {
    "slideshow": {
     "slide_type": "subslide"
    }
   },
   "source": [
    "### Estimators"
   ]
  },
  {
   "cell_type": "code",
   "execution_count": 7,
   "metadata": {
    "collapsed": true,
    "slideshow": {
     "slide_type": "-"
    }
   },
   "outputs": [],
   "source": [
    "class Estimator(object):\n",
    "    def fit(self, X, y=None):\n",
    "        \"\"\"Fits estimator to data.\"\"\"\n",
    "        # set state of ``self``\n",
    "        return self"
   ]
  },
  {
   "cell_type": "code",
   "execution_count": 8,
   "metadata": {
    "collapsed": false,
    "slideshow": {
     "slide_type": "subslide"
    }
   },
   "outputs": [
    {
     "ename": "NameError",
     "evalue": "name 'make_blobs' is not defined",
     "output_type": "error",
     "traceback": [
      "\u001b[0;31m---------------------------------------------------------------------------\u001b[0m",
      "\u001b[0;31mNameError\u001b[0m                                 Traceback (most recent call last)",
      "\u001b[0;32m<ipython-input-8-6b0847955a85>\u001b[0m in \u001b[0;36m<module>\u001b[0;34m()\u001b[0m\n\u001b[1;32m      1\u001b[0m \u001b[0;31m# Back to blobs\u001b[0m\u001b[0;34m\u001b[0m\u001b[0;34m\u001b[0m\u001b[0m\n\u001b[0;32m----> 2\u001b[0;31m \u001b[0mX\u001b[0m\u001b[0;34m,\u001b[0m \u001b[0my\u001b[0m \u001b[0;34m=\u001b[0m \u001b[0mmake_blobs\u001b[0m\u001b[0;34m(\u001b[0m\u001b[0mn_samples\u001b[0m\u001b[0;34m=\u001b[0m\u001b[0;36m1000\u001b[0m\u001b[0;34m,\u001b[0m \u001b[0mcenters\u001b[0m\u001b[0;34m=\u001b[0m\u001b[0;36m20\u001b[0m\u001b[0;34m,\u001b[0m \u001b[0mrandom_state\u001b[0m\u001b[0;34m=\u001b[0m\u001b[0;36m123\u001b[0m\u001b[0;34m)\u001b[0m\u001b[0;34m\u001b[0m\u001b[0m\n\u001b[0m\u001b[1;32m      3\u001b[0m \u001b[0mlabels\u001b[0m \u001b[0;34m=\u001b[0m \u001b[0;34m[\u001b[0m\u001b[0;34m\"b\"\u001b[0m\u001b[0;34m,\u001b[0m \u001b[0;34m\"r\"\u001b[0m\u001b[0;34m]\u001b[0m\u001b[0;34m\u001b[0m\u001b[0m\n\u001b[1;32m      4\u001b[0m \u001b[0my\u001b[0m \u001b[0;34m=\u001b[0m \u001b[0mnp\u001b[0m\u001b[0;34m.\u001b[0m\u001b[0mtake\u001b[0m\u001b[0;34m(\u001b[0m\u001b[0mlabels\u001b[0m\u001b[0;34m,\u001b[0m \u001b[0;34m(\u001b[0m\u001b[0my\u001b[0m \u001b[0;34m<\u001b[0m \u001b[0;36m10\u001b[0m\u001b[0;34m)\u001b[0m\u001b[0;34m)\u001b[0m \u001b[0;31m# Relabels numeric values to b,r\u001b[0m\u001b[0;34m\u001b[0m\u001b[0m\n\u001b[1;32m      5\u001b[0m \u001b[0;34m\u001b[0m\u001b[0m\n",
      "\u001b[0;31mNameError\u001b[0m: name 'make_blobs' is not defined"
     ]
    }
   ],
   "source": [
    "# Back to blobs\n",
    "X, y = make_blobs(n_samples=1000, centers=20, random_state=123)\n",
    "labels = [\"b\", \"r\"]\n",
    "y = np.take(labels, (y < 10)) # Relabels numeric values to b,r\n",
    "\n",
    "# Import the decision tree class\n",
    "from sklearn.tree import DecisionTreeClassifier  # Change this to try \n",
    "                                                 # something else \n",
    "\n",
    "# Set hyper-parameters, for controlling algorithm\n",
    "clf = DecisionTreeClassifier()\n",
    "\n",
    "\n",
    "# Learn a model from training data\n",
    "clf.fit(X, y)"
   ]
  },
  {
   "cell_type": "markdown",
   "metadata": {
    "slideshow": {
     "slide_type": "subslide"
    }
   },
   "source": [
    "### Predictors"
   ]
  },
  {
   "cell_type": "code",
   "execution_count": null,
   "metadata": {
    "collapsed": false,
    "slideshow": {
     "slide_type": "fragment"
    }
   },
   "outputs": [],
   "source": [
    "# Make predictions  \n",
    "print(clf.predict(X[:5])) "
   ]
  },
  {
   "cell_type": "code",
   "execution_count": null,
   "metadata": {
    "collapsed": false,
    "slideshow": {
     "slide_type": "fragment"
    }
   },
   "outputs": [],
   "source": [
    "# Compute (approximate) class probabilities\n",
    "print(clf.predict_proba(X[:5]))"
   ]
  },
  {
   "cell_type": "code",
   "execution_count": null,
   "metadata": {
    "collapsed": false,
    "slideshow": {
     "slide_type": "subslide"
    }
   },
   "outputs": [],
   "source": [
    "plot_surface(clf, X, y)"
   ]
  },
  {
   "cell_type": "code",
   "execution_count": null,
   "metadata": {
    "collapsed": false,
    "slideshow": {
     "slide_type": "subslide"
    }
   },
   "outputs": [],
   "source": [
    "clf = DecisionTreeClassifier(criterion='entropy', max_depth=None) # information gain\n",
    "clf.fit(X, y)\n",
    "plot_surface(clf, X, y)"
   ]
  },
  {
   "cell_type": "markdown",
   "metadata": {
    "slideshow": {
     "slide_type": "subslide"
    }
   },
   "source": [
    "## Classifier zoo"
   ]
  },
  {
   "cell_type": "markdown",
   "metadata": {
    "slideshow": {
     "slide_type": "subslide"
    }
   },
   "source": [
    "### K-nearest neighbours\n",
    "\n",
    "Idea: Make prediction based on target class of k nearest neighbors (vote)"
   ]
  },
  {
   "cell_type": "code",
   "execution_count": null,
   "metadata": {
    "collapsed": false
   },
   "outputs": [],
   "source": [
    "from sklearn.neighbors import KNeighborsClassifier\n",
    "# Set hyper-parameters, for controlling algorithm\n",
    "clf = KNeighborsClassifier(n_neighbors=5)\n",
    "clf.fit(X, y)\n",
    "plot_surface(clf, X, y)"
   ]
  },
  {
   "cell_type": "markdown",
   "metadata": {
    "slideshow": {
     "slide_type": "subslide"
    }
   },
   "source": [
    "### Random Forests\n",
    "\n",
    "Idea: Build several decision trees with controlled randomness and average their decisions."
   ]
  },
  {
   "cell_type": "code",
   "execution_count": null,
   "metadata": {
    "collapsed": false
   },
   "outputs": [],
   "source": [
    "from sklearn.ensemble import RandomForestClassifier \n",
    "clf = RandomForestClassifier(n_estimators=500)\n",
    "clf.fit(X, y)\n",
    "plot_surface(clf, X, y)"
   ]
  },
  {
   "cell_type": "markdown",
   "metadata": {
    "collapsed": true,
    "slideshow": {
     "slide_type": "subslide"
    }
   },
   "source": [
    "### Support vector machines\n",
    "\n",
    "Idea: Find the hyperplane which has the largest distance to the nearest training points of any class."
   ]
  },
  {
   "cell_type": "code",
   "execution_count": null,
   "metadata": {
    "collapsed": false
   },
   "outputs": [],
   "source": [
    "from sklearn.svm import SVC\n",
    "clf = SVC(kernel=\"rbf\")  # try kernel=\"rbf\" instead\n",
    "clf.fit(X, y)\n",
    "plot_surface(clf, X, y)"
   ]
  },
  {
   "cell_type": "markdown",
   "metadata": {
    "slideshow": {
     "slide_type": "slide"
    }
   },
   "source": [
    "# Model evaluation and selection\n",
    "Meant as demonstration. Theory given in next lecture."
   ]
  },
  {
   "cell_type": "markdown",
   "metadata": {
    "slideshow": {
     "slide_type": "subslide"
    }
   },
   "source": [
    "## Training error"
   ]
  },
  {
   "cell_type": "code",
   "execution_count": null,
   "metadata": {
    "collapsed": false
   },
   "outputs": [],
   "source": [
    "from sklearn.neighbors import KNeighborsClassifier\n",
    "from sklearn.metrics import zero_one_loss\n",
    "clf = DecisionTreeClassifier()\n",
    "clf.fit(X, y)\n",
    "print(\"Training error =\", zero_one_loss(y, clf.predict(X)))"
   ]
  },
  {
   "cell_type": "markdown",
   "metadata": {
    "slideshow": {
     "slide_type": "subslide"
    }
   },
   "source": [
    "## Test error\n",
    "\n",
    "Issue: the training error is a __biased__ estimate of the generalization error.\n",
    "\n",
    "Solution: Divide data into two disjoint parts called training and test sets (usually using 70% for training and 30% for test).\n",
    "- Use the training set for fitting the model;\n",
    "- Use the test set for evaluation only, thereby yielding an unbiased estimate.\n",
    "- __The same data should not be used both for training and evaluation.__"
   ]
  },
  {
   "cell_type": "code",
   "execution_count": null,
   "metadata": {
    "collapsed": false,
    "slideshow": {
     "slide_type": "subslide"
    }
   },
   "outputs": [],
   "source": [
    "from sklearn.cross_validation import train_test_split\n",
    "X_train, X_test, y_train, y_test = train_test_split(X, y)\n",
    "clf = DecisionTreeClassifier()\n",
    "clf.fit(X_train, y_train)\n",
    "print(\"Training error =\", zero_one_loss(y_train, clf.predict(X_train)))\n",
    "print(\"Test error =\", zero_one_loss(y_test, clf.predict(X_test)))"
   ]
  },
  {
   "cell_type": "markdown",
   "metadata": {
    "slideshow": {
     "slide_type": "subslide"
    }
   },
   "source": [
    "## Cross-validation"
   ]
  },
  {
   "cell_type": "markdown",
   "metadata": {},
   "source": [
    "Issue: \n",
    "- When data is small, training on 70% of the data may lead to a model that is significantly different from a model that would have been learned on the entire set. \n",
    "- Yet, increasing the size of the training set (resp. decreasing the size of the test set), might lead to an inaccurate estimate of the generalization error. \n",
    "\n",
    "Solution: K-Fold cross-validation. \n",
    "- Split data into K small disjoint folds. \n",
    "- Train on K-1 folds, evaluate the test error one the held-out fold.\n",
    "- Repeat for all combinations and average the K estimates of the generalization error."
   ]
  },
  {
   "cell_type": "code",
   "execution_count": null,
   "metadata": {
    "collapsed": false,
    "slideshow": {
     "slide_type": "subslide"
    }
   },
   "outputs": [],
   "source": [
    "from sklearn.cross_validation import KFold\n",
    "\n",
    "scores = []\n",
    "\n",
    "for train, test in KFold(n=len(X), n_folds=5, random_state=42):\n",
    "    X_train, y_train = X[train], y[train]\n",
    "    X_test, y_test = X[test], y[test]\n",
    "    clf = DecisionTreeClassifier().fit(X_train, y_train)\n",
    "    scores.append(zero_one_loss(y_test, clf.predict(X_test)))\n",
    "\n",
    "print(\"CV error = %f +-%f\" % (np.mean(scores), np.std(scores)))"
   ]
  },
  {
   "cell_type": "code",
   "execution_count": null,
   "metadata": {
    "collapsed": false,
    "slideshow": {
     "slide_type": "fragment"
    }
   },
   "outputs": [],
   "source": [
    "# Shortcut\n",
    "from sklearn.cross_validation import cross_val_score\n",
    "scores = cross_val_score(DecisionTreeClassifier(), X, y, \n",
    "                         cv=KFold(n=len(X), n_folds=5, random_state=42), \n",
    "                         scoring=\"accuracy\")\n",
    "print(\"CV error = %f +-%f\" % (1. - np.mean(scores), np.std(scores)))"
   ]
  },
  {
   "cell_type": "markdown",
   "metadata": {
    "slideshow": {
     "slide_type": "subslide"
    }
   },
   "source": [
    "## Metrics"
   ]
  },
  {
   "cell_type": "markdown",
   "metadata": {
    "slideshow": {
     "slide_type": "subslide"
    }
   },
   "source": [
    "### Default score\n",
    "\n",
    "Estimators come with a built-in default evaluation score\n",
    "* Accuracy for classification \n",
    "* R2 score for regression"
   ]
  },
  {
   "cell_type": "code",
   "execution_count": null,
   "metadata": {
    "collapsed": false
   },
   "outputs": [],
   "source": [
    "y_train = (y_train == \"r\")\n",
    "y_test = (y_test == \"r\")\n",
    "clf = KNeighborsClassifier(n_neighbors=5)\n",
    "clf.fit(X_train, y_train) \n",
    "print(\"Default score =\", clf.score(X_test, y_test))"
   ]
  },
  {
   "cell_type": "markdown",
   "metadata": {
    "slideshow": {
     "slide_type": "subslide"
    }
   },
   "source": [
    "### Accuracy\n",
    "\n",
    "Definition: The accuracy is the proportion of correct predictions."
   ]
  },
  {
   "cell_type": "code",
   "execution_count": null,
   "metadata": {
    "collapsed": false,
    "slideshow": {
     "slide_type": "-"
    }
   },
   "outputs": [],
   "source": [
    "from sklearn.metrics import accuracy_score\n",
    "print(\"Accuracy =\", accuracy_score(y_test, clf.predict(X_test)))"
   ]
  },
  {
   "cell_type": "markdown",
   "metadata": {
    "slideshow": {
     "slide_type": "subslide"
    }
   },
   "source": [
    "### Precision, recall and F-measure\n",
    "\n",
    "$$Precision = \\frac{TP}{TP + FP}$$\n",
    "$$Recall = \\frac{TP}{TP + FN}$$\n",
    "$$F = \\frac{2 * Precision * Recall}{Precision + Recall}$$"
   ]
  },
  {
   "cell_type": "code",
   "execution_count": null,
   "metadata": {
    "collapsed": false,
    "slideshow": {
     "slide_type": "-"
    }
   },
   "outputs": [],
   "source": [
    "from sklearn.metrics import precision_score\n",
    "from sklearn.metrics import recall_score\n",
    "from sklearn.metrics import fbeta_score\n",
    "print(\"Precision =\", precision_score(y_test, clf.predict(X_test)))\n",
    "print(\"Recall =\", recall_score(y_test, clf.predict(X_test)))\n",
    "print(\"F =\", fbeta_score(y_test, clf.predict(X_test), beta=1))"
   ]
  },
  {
   "cell_type": "markdown",
   "metadata": {
    "slideshow": {
     "slide_type": "subslide"
    }
   },
   "source": [
    "### ROC AUC\n",
    "\n",
    "Definition: Area under the curve of the false positive rate (FPR) against the true positive rate (TPR) as the decision threshold of the classifier is varied."
   ]
  },
  {
   "cell_type": "code",
   "execution_count": null,
   "metadata": {
    "collapsed": false,
    "slideshow": {
     "slide_type": "-"
    }
   },
   "outputs": [],
   "source": [
    "from sklearn.metrics import get_scorer\n",
    "roc_auc_scorer = get_scorer(\"roc_auc\")\n",
    "print(\"ROC AUC =\", roc_auc_scorer(clf, X_test, y_test))\n",
    "\n",
    "from sklearn.metrics import roc_curve\n",
    "fpr, tpr, thresholds = roc_curve(y_test, clf.predict_proba(X_test)[:, 1])\n",
    "plt.plot(fpr, tpr)\n",
    "plt.xlabel(\"FPR\")\n",
    "plt.ylabel(\"TPR\")\n",
    "plt.show()"
   ]
  },
  {
   "cell_type": "markdown",
   "metadata": {
    "slideshow": {
     "slide_type": "subslide"
    }
   },
   "source": [
    "### Confusion matrix\n",
    "\n",
    "Definition: number of samples of class $i$ predicted as class $j$."
   ]
  },
  {
   "cell_type": "code",
   "execution_count": 9,
   "metadata": {
    "collapsed": false,
    "slideshow": {
     "slide_type": "-"
    }
   },
   "outputs": [
    {
     "ename": "NameError",
     "evalue": "name 'y_test' is not defined",
     "output_type": "error",
     "traceback": [
      "\u001b[0;31m---------------------------------------------------------------------------\u001b[0m",
      "\u001b[0;31mNameError\u001b[0m                                 Traceback (most recent call last)",
      "\u001b[0;32m<ipython-input-9-879849b57689>\u001b[0m in \u001b[0;36m<module>\u001b[0;34m()\u001b[0m\n\u001b[1;32m      1\u001b[0m \u001b[0;32mfrom\u001b[0m \u001b[0msklearn\u001b[0m\u001b[0;34m.\u001b[0m\u001b[0mmetrics\u001b[0m \u001b[0;32mimport\u001b[0m \u001b[0mconfusion_matrix\u001b[0m\u001b[0;34m\u001b[0m\u001b[0m\n\u001b[0;32m----> 2\u001b[0;31m \u001b[0mconfusion_matrix\u001b[0m\u001b[0;34m(\u001b[0m\u001b[0my_test\u001b[0m\u001b[0;34m,\u001b[0m \u001b[0mclf\u001b[0m\u001b[0;34m.\u001b[0m\u001b[0mpredict\u001b[0m\u001b[0;34m(\u001b[0m\u001b[0mX_test\u001b[0m\u001b[0;34m)\u001b[0m\u001b[0;34m)\u001b[0m\u001b[0;34m\u001b[0m\u001b[0m\n\u001b[0m",
      "\u001b[0;31mNameError\u001b[0m: name 'y_test' is not defined"
     ]
    }
   ],
   "source": [
    "from sklearn.metrics import confusion_matrix\n",
    "confusion_matrix(y_test, clf.predict(X_test))"
   ]
  },
  {
   "cell_type": "markdown",
   "metadata": {
    "slideshow": {
     "slide_type": "slide"
    }
   },
   "source": [
    "# Transformers, pipelines and feature unions"
   ]
  },
  {
   "cell_type": "markdown",
   "metadata": {
    "slideshow": {
     "slide_type": "subslide"
    }
   },
   "source": [
    "## Transformers\n",
    "\n",
    "- Classification (or regression) is often only one or the last step of a long and complicated process;\n",
    "- In most cases, input data needs to be cleaned, massaged or extended before being fed to a learning algorithm;\n",
    "- For this purpose, Scikit-Learn provides the ``transformer`` API."
   ]
  },
  {
   "cell_type": "code",
   "execution_count": null,
   "metadata": {
    "collapsed": true,
    "slideshow": {
     "slide_type": "subslide"
    }
   },
   "outputs": [],
   "source": [
    "class Transformer(object):    \n",
    "    def fit(self, X, y=None):\n",
    "        \"\"\"Fits estimator to data.\"\"\"\n",
    "        # set state of ``self``\n",
    "        return self\n",
    "    \n",
    "    def transform(self, X):\n",
    "        \"\"\"Transform X into Xt.\"\"\"\n",
    "        # transform X in some way to produce Xt\n",
    "        return Xt\n",
    "    \n",
    "    # Shortcut\n",
    "    def fit_transform(self, X, y=None):\n",
    "        self.fit(X, y)\n",
    "        Xt = self.transform(X)\n",
    "        return Xt"
   ]
  },
  {
   "cell_type": "markdown",
   "metadata": {
    "slideshow": {
     "slide_type": "subslide"
    }
   },
   "source": [
    "## Pipelines\n",
    "\n",
    "Transformers can be chained in sequence to form a pipeline."
   ]
  },
  {
   "cell_type": "code",
   "execution_count": 10,
   "metadata": {
    "collapsed": false,
    "slideshow": {
     "slide_type": "subslide"
    }
   },
   "outputs": [
    {
     "ename": "NameError",
     "evalue": "name 'train_test_split' is not defined",
     "output_type": "error",
     "traceback": [
      "\u001b[0;31m---------------------------------------------------------------------------\u001b[0m",
      "\u001b[0;31mNameError\u001b[0m                                 Traceback (most recent call last)",
      "\u001b[0;32m<ipython-input-10-77435598ec88>\u001b[0m in \u001b[0;36m<module>\u001b[0;34m()\u001b[0m\n\u001b[1;32m      5\u001b[0m \u001b[0mdataset\u001b[0m \u001b[0;34m=\u001b[0m \u001b[0mdatasets\u001b[0m\u001b[0;34m.\u001b[0m\u001b[0mget_dataset\u001b[0m\u001b[0;34m(\u001b[0m\u001b[0;36m337\u001b[0m\u001b[0;34m)\u001b[0m\u001b[0;34m\u001b[0m\u001b[0m\n\u001b[1;32m      6\u001b[0m \u001b[0mX\u001b[0m\u001b[0;34m,\u001b[0m \u001b[0my\u001b[0m \u001b[0;34m=\u001b[0m \u001b[0mdataset\u001b[0m\u001b[0;34m.\u001b[0m\u001b[0mget_data\u001b[0m\u001b[0;34m(\u001b[0m\u001b[0mtarget\u001b[0m\u001b[0;34m=\u001b[0m\u001b[0mdataset\u001b[0m\u001b[0;34m.\u001b[0m\u001b[0mdefault_target_attribute\u001b[0m\u001b[0;34m)\u001b[0m\u001b[0;34m\u001b[0m\u001b[0m\n\u001b[0;32m----> 7\u001b[0;31m \u001b[0mX_train\u001b[0m\u001b[0;34m,\u001b[0m \u001b[0mX_test\u001b[0m\u001b[0;34m,\u001b[0m \u001b[0my_train\u001b[0m\u001b[0;34m,\u001b[0m \u001b[0my_test\u001b[0m \u001b[0;34m=\u001b[0m \u001b[0mtrain_test_split\u001b[0m\u001b[0;34m(\u001b[0m\u001b[0mX\u001b[0m\u001b[0;34m,\u001b[0m \u001b[0my\u001b[0m\u001b[0;34m)\u001b[0m\u001b[0;34m\u001b[0m\u001b[0m\n\u001b[0m\u001b[1;32m      8\u001b[0m \u001b[0;34m\u001b[0m\u001b[0m\n\u001b[1;32m      9\u001b[0m \u001b[0;31m# Chain transformers + a classifier to build a new classifier\u001b[0m\u001b[0;34m\u001b[0m\u001b[0;34m\u001b[0m\u001b[0m\n",
      "\u001b[0;31mNameError\u001b[0m: name 'train_test_split' is not defined"
     ]
    }
   ],
   "source": [
    "from sklearn.pipeline import make_pipeline\n",
    "from sklearn.feature_selection import SelectKBest, f_classif\n",
    " \n",
    "# Get more complex data\n",
    "dataset = datasets.get_dataset(337)\n",
    "X, y = dataset.get_data(target=dataset.default_target_attribute)\n",
    "X_train, X_test, y_train, y_test = train_test_split(X, y)\n",
    "\n",
    "# Chain transformers + a classifier to build a new classifier\n",
    "clf = make_pipeline(SelectKBest(score_func=f_classif, k=44), \n",
    "                    RandomForestClassifier())\n",
    "clf.fit(X_train, y_train)\n",
    "print(clf.predict_proba(X_test)[:5])"
   ]
  },
  {
   "cell_type": "markdown",
   "metadata": {
    "slideshow": {
     "slide_type": "subslide"
    }
   },
   "source": [
    "## Optimizing parameters\n",
    "Search for the best hyperparameter settings"
   ]
  },
  {
   "cell_type": "code",
   "execution_count": null,
   "metadata": {
    "collapsed": false,
    "slideshow": {
     "slide_type": "subslide"
    }
   },
   "outputs": [],
   "source": [
    "# Hyper-parameters can be accessed using step names\n",
    "print(\"K =\", clf.get_params()[\"selectkbest__k\"])"
   ]
  },
  {
   "cell_type": "code",
   "execution_count": null,
   "metadata": {
    "collapsed": false,
    "slideshow": {
     "slide_type": "fragment"
    }
   },
   "outputs": [],
   "source": [
    "from sklearn.grid_search import GridSearchCV\n",
    "grid = GridSearchCV(clf, \n",
    "                    param_grid={\"selectkbest__k\": [1, 10, 20, 30, 40],\n",
    "                                \"randomforestclassifier__max_features\": [0.1, 0.25, 0.5]})\n",
    "grid.fit(X_train, y_train)\n",
    "\n",
    "print(\"Best params =\", grid.best_params_)"
   ]
  },
  {
   "cell_type": "markdown",
   "metadata": {
    "slideshow": {
     "slide_type": "slide"
    }
   },
   "source": [
    "# Summary\n",
    "\n",
    "- Scikit-Learn provides essential tools for machine learning. \n",
    "- It is more than training classifiers!\n",
    "- It integrates within a larger Python scientific ecosystem.\n",
    "- Try it for yourself!"
   ]
  },
  {
   "cell_type": "markdown",
   "metadata": {
    "collapsed": false,
    "slideshow": {
     "slide_type": "subslide"
    }
   },
   "source": [
    "questions?"
   ]
  },
  {
   "cell_type": "markdown",
   "metadata": {
    "slideshow": {
     "slide_type": "slide"
    }
   },
   "source": [
    "## Acknowledgements\n",
    "Based on a tutorial by Gilles Loupe and sci-kit learn documentation"
   ]
  }
 ],
 "metadata": {
  "celltoolbar": "Slideshow",
  "kernelspec": {
   "display_name": "Python 3",
   "language": "python",
   "name": "python3"
  },
  "language_info": {
   "codemirror_mode": {
    "name": "ipython",
    "version": 3
   },
   "file_extension": ".py",
   "mimetype": "text/x-python",
   "name": "python",
   "nbconvert_exporter": "python",
   "pygments_lexer": "ipython3",
   "version": "3.5.1"
  }
 },
 "nbformat": 4,
 "nbformat_minor": 0
}
