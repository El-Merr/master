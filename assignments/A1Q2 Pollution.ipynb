{
 "cells": [
  {
   "cell_type": "markdown",
   "metadata": {
    "collapsed": true,
    "slideshow": {
     "slide_type": "slide"
    }
   },
   "source": [
    "# Assignment 1, Question 2: Pollution"
   ]
  },
  {
   "cell_type": "markdown",
   "metadata": {},
   "source": [
    "Instructions:\n",
    "* Please complete the assignments in this notebook. You should submit this notebook, as well as a PDF version, to blackboard.\n",
    "* To create the PDF, see File > Download as. You can export to PDF via Latex, or export to HTML and then print to PDF.\n",
    "* Check your code before submission. It should be possible to reproduce all your results via 'run all'.\n",
    "* Add a clear explanation of your approach and an in-depth interpretation of your results for every subquestion. Use markdown cells for this.\n",
    "* Keep the PDF for each question below 5 pages. Remove these instructions in the final PDF.\n",
    "* Avoid all unnecessary outputs. Only output the answers to the questions. Add ';' behind lines that generate output to suppress the output.\n",
    "* Add the names of all team members below."
   ]
  },
  {
   "cell_type": "markdown",
   "metadata": {},
   "source": [
    "TEAM MEMBER 1 = ...  \n",
    "TEAM MEMBER 2 = ...  \n",
    "TEAM MEMBER 3 = ...  \n",
    "TEAM MEMBER 4 = ...  "
   ]
  },
  {
   "cell_type": "markdown",
   "metadata": {},
   "source": [
    "## NO_2\n",
    "The [NO2 dataset](https://www.openml.org/d/547) contains 500 measurement of pollution caused by cars. The goal is to predict the concentration of $NO_2$ from data about traffic and atmospheric conditions. Remove the 'day' feature (it is temporal and requires special treatment)."
   ]
  },
  {
   "cell_type": "code",
   "execution_count": 1,
   "metadata": {},
   "outputs": [],
   "source": [
    "# General imports\n",
    "%matplotlib inline\n",
    "from preamble import *\n",
    "plt.rcParams['savefig.dpi'] = 100 # This controls the size of your figures"
   ]
  },
  {
   "cell_type": "code",
   "execution_count": 2,
   "metadata": {},
   "outputs": [],
   "source": [
    "# Download NO2 data. Takes a while the first time.\n",
    "no2 = oml.datasets.get_dataset(547)\n",
    "X, y, attribute_names = no2.get_data(target=no2.default_target_attribute, return_attribute_names=True);"
   ]
  },
  {
   "cell_type": "code",
   "execution_count": 27,
   "metadata": {},
   "outputs": [],
   "source": [
    "# Remove the Days feature. This requires special treatment.\n",
    "X = np.delete(X, 6, 1)\n",
    "attribute_names = attribute_names[:-1]"
   ]
  },
  {
   "cell_type": "markdown",
   "metadata": {},
   "source": [
    "1_ Visually explore the data. Plot the distribution of each feature (e.g. histograms), as well as the target. Visualize the dependency of the target on each feature (use a 2d scatter plot). Is there anything that stands out? Is there something that you think might require special treatment? (1 point)\n",
    "- Feel free to create additional plots that help you understand the data\n",
    "- Only visualize the data, you don't need to change it (yet)"
   ]
  },
  {
   "cell_type": "markdown",
   "metadata": {},
   "source": [
    "2_ Compare all linear regression algorithms that we covered in class (Linear Regression, Ridge, Lasso and ElasticNet), as well as kNN. (2 points)\n",
    "- Evaluate using cross-validation and the $R^2$ score, with the default parameters. \n",
    "- Does scaling the data with StandardScaler help? Make sure you do the scaling correctly in the cross-validation. Provide a concise but meaningful interpretation of the results."
   ]
  },
  {
   "cell_type": "markdown",
   "metadata": {},
   "source": [
    "3_ Tune the parameters of the linear models using GridSearchCV.  (1 points)\n",
    "- Vary the most important hyperparameters (alpha and ratio). Do the results improve?\n",
    "- Visualize the dependence of the validation score on the parameters for Ridge, Lasso and ElasticNet."
   ]
  },
  {
   "cell_type": "markdown",
   "metadata": {},
   "source": [
    "4_ Visualize the coefficients of the resulting models. (1 point)\n",
    "- Do they agree on which features are important?"
   ]
  }
 ],
 "metadata": {
  "anaconda-cloud": {},
  "kernelspec": {
   "display_name": "Python 3",
   "language": "python",
   "name": "python3"
  },
  "language_info": {
   "codemirror_mode": {
    "name": "ipython",
    "version": 3
   },
   "file_extension": ".py",
   "mimetype": "text/x-python",
   "name": "python",
   "nbconvert_exporter": "python",
   "pygments_lexer": "ipython3",
   "version": "3.6.4"
  }
 },
 "nbformat": 4,
 "nbformat_minor": 1
}
